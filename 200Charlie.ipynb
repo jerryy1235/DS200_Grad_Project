{
 "cells": [
  {
   "cell_type": "markdown",
   "id": "80d7df92-390b-4e87-9871-b91f94de3cca",
   "metadata": {},
   "source": [
    "**preliminary questions/tips you can think about for each part**\n",
    "1. Data Sampling and Collection\n",
    "    1. How were the data collected?\n",
    "    1. Was there any potential bias introduced in the sampling process?\n",
    "2. Data Cleaning\n",
    "    1. What type of data are you currently exploring?\n",
    "    1. What is the granularity of the data?\n",
    "    1. What does the distribution of the data look like? Are there any outliers? Are there any missing or invalid entries?\n",
    "3. Exploratory Data Analysis\n",
    "    1. Is there any correlation between the variables you are interested in exploring?\n",
    "    1. How would you cleanly and accurately visualize the relationship among variables?\n",
    "4. Data Modeling and Inferences\n",
    "    1. Please note that the following datasets have a data modeling requirement, i.e. you need to utilize at least 1 machine learning model we teach in this class in your project: Topic 1 - Dataset A, Topic 1 - Dataset C, Topic 2 - Dataset A, Topic 3 - Dataset A, Topic 3 - Dataset B. For datasets not mentioned above, you are welcome to continue building machine learning model(s). Otherwise, we will be placing more emphasis on the inference part instead.\n",
    "    1. Here are a few components your notebook must address if your focus is on modeling:\n",
    "        1. What type of machine learning problem are you investigating?\n",
    "        1. What model do you plan on using and why?\n",
    "        1. Does your model require hyperparameter tuning? If so, how do you approach it?\n",
    "        1. How do you engineer the features for your model? What are the rationales behind selecting these features?\n",
    "        1. How do you perform cross validation on your model?\n",
    "        1. What loss metrics are you using to evaluate your model?\n",
    "        1. From a bias-variance tradeoff standpoint, how do you assess the performance of your model? How do you check if it is overfitting?\n",
    "        1. How would you improve your model based on the outcome?\n",
    "    1. If you are choosing to pursue your research question from an inference angle\n",
    "        1. Your notebook must demonstrate sufficient analysis and visualization to support your conclusion.\n",
    "        1. You must have a clearly constructed hypothesis test (including a clearly defined test statistic, significance level, and justification of chosen procedure)\n",
    "        1. We will not restrict you to the type of statistical test you conduct as there are many different statistical techniques that may apply to your case. However, we also ask that you provide detailed justification for the techniques you choose and how it allows you make those inferences."
   ]
  },
  {
   "cell_type": "markdown",
   "id": "dd73d386-8ccd-4602-b4ad-5907b8848ae9",
   "metadata": {},
   "source": [
    "# Packages"
   ]
  },
  {
   "cell_type": "code",
   "execution_count": 1,
   "id": "595c509a-df36-4f55-9ea8-f75fea538f1f",
   "metadata": {},
   "outputs": [],
   "source": [
    "import os\n",
    "import warnings\n",
    "warnings.filterwarnings(\"ignore\")\n",
    "\n",
    "import numpy as np\n",
    "import pandas as pd\n",
    "import matplotlib.pyplot as plt\n",
    "%matplotlib inline\n",
    "import seaborn as sns\n",
    "\n",
    "from sklearn.model_selection import train_test_split\n",
    "from time import time\n",
    "from sklearn.metrics import mean_squared_error\n",
    "from sklearn.model_selection import GridSearchCV\n",
    "from sklearn.linear_model import LinearRegression\n",
    "from sklearn.svm import SVR\n",
    "from sklearn.tree import DecisionTreeRegressor\n",
    "from sklearn.ensemble import RandomForestRegressor"
   ]
  },
  {
   "cell_type": "markdown",
   "id": "2e84d811-e283-4e85-9856-50ba638789d4",
   "metadata": {
    "tags": []
   },
   "source": [
    "# 1. Data Sampling and Collection"
   ]
  },
  {
   "cell_type": "markdown",
   "id": "0c482dd5-3ba2-44f6-97ee-4e7eb4d06775",
   "metadata": {},
   "source": [
    "1. How were the data collected?\n",
    "1. Was there any potential bias introduced in the sampling process?"
   ]
  },
  {
   "cell_type": "code",
   "execution_count": 2,
   "id": "9893bee9-04af-4ccb-815b-e65cd5df25e1",
   "metadata": {},
   "outputs": [],
   "source": [
    "try:\n",
    "    gasType = pd.read_csv(\"Data/us_greenhouse_gas_emission_direct_emitter_gas_type.csv\")\n",
    "    facility =  pd.read_csv(\"Data/us_greenhouse_gas_emissions_direct_emitter_facilities.csv\")\n",
    "    code6Digit = pd.read_excel(\"Data/6-digit_2022_Codes.xlsx\")\n",
    "    code2To6Digit = pd.read_excel(\"Data/2-6 digit_2022_Codes.xlsx\")\n",
    "except FileNotFoundError:\n",
    "    print(\"WRONG FILE.\")"
   ]
  },
  {
   "cell_type": "markdown",
   "id": "1a851feb-5190-4b0c-b964-4699679102d0",
   "metadata": {},
   "source": [
    "## 1.1. `gasType` Explore"
   ]
  },
  {
   "cell_type": "code",
   "execution_count": 3,
   "id": "0cf2f04e-9703-40f9-ae56-aeb7ca28f74e",
   "metadata": {},
   "outputs": [
    {
     "data": {
      "text/html": [
       "<div>\n",
       "<style scoped>\n",
       "    .dataframe tbody tr th:only-of-type {\n",
       "        vertical-align: middle;\n",
       "    }\n",
       "\n",
       "    .dataframe tbody tr th {\n",
       "        vertical-align: top;\n",
       "    }\n",
       "\n",
       "    .dataframe thead th {\n",
       "        text-align: right;\n",
       "    }\n",
       "</style>\n",
       "<table border=\"1\" class=\"dataframe\">\n",
       "  <thead>\n",
       "    <tr style=\"text-align: right;\">\n",
       "      <th></th>\n",
       "      <th>V_GHG_EMITTER_GAS.ADDRESS1</th>\n",
       "      <th>V_GHG_EMITTER_GAS.ADDRESS2</th>\n",
       "      <th>V_GHG_EMITTER_GAS.CITY</th>\n",
       "      <th>V_GHG_EMITTER_GAS.CO2E_EMISSION</th>\n",
       "      <th>V_GHG_EMITTER_GAS.COUNTY</th>\n",
       "      <th>V_GHG_EMITTER_GAS.FACILITY_ID</th>\n",
       "      <th>V_GHG_EMITTER_GAS.GAS_CODE</th>\n",
       "      <th>V_GHG_EMITTER_GAS.GAS_NAME</th>\n",
       "      <th>V_GHG_EMITTER_GAS.LATITUDE</th>\n",
       "      <th>V_GHG_EMITTER_GAS.LONGITUDE</th>\n",
       "      <th>V_GHG_EMITTER_GAS.STATE</th>\n",
       "      <th>V_GHG_EMITTER_GAS.STATE_NAME</th>\n",
       "      <th>V_GHG_EMITTER_GAS.YEAR</th>\n",
       "      <th>V_GHG_EMITTER_GAS.ZIP</th>\n",
       "      <th>V_GHG_EMITTER_GAS.FACILITY_NAME</th>\n",
       "      <th>V_GHG_EMITTER_GAS.COUNTY_FIPS</th>\n",
       "    </tr>\n",
       "  </thead>\n",
       "  <tbody>\n",
       "    <tr>\n",
       "      <th>0</th>\n",
       "      <td>1919 S. BROADWAY</td>\n",
       "      <td>NaN</td>\n",
       "      <td>GREEN BAY</td>\n",
       "      <td>58024.000</td>\n",
       "      <td>BROWN COUNTY</td>\n",
       "      <td>1000589</td>\n",
       "      <td>BIOCO2</td>\n",
       "      <td>Biogenic CO2</td>\n",
       "      <td>44.492500</td>\n",
       "      <td>-88.032300</td>\n",
       "      <td>WI</td>\n",
       "      <td>WISCONSIN</td>\n",
       "      <td>2017</td>\n",
       "      <td>54304</td>\n",
       "      <td>GEORGIA-PACIFIC CONSUMER OPERATIONS LLC</td>\n",
       "      <td>55009.0</td>\n",
       "    </tr>\n",
       "    <tr>\n",
       "      <th>1</th>\n",
       "      <td>850 12TH AVE</td>\n",
       "      <td>NaN</td>\n",
       "      <td>NEW YORK</td>\n",
       "      <td>134.500</td>\n",
       "      <td>New York</td>\n",
       "      <td>1000766</td>\n",
       "      <td>CH4</td>\n",
       "      <td>Methane</td>\n",
       "      <td>40.771100</td>\n",
       "      <td>-73.991100</td>\n",
       "      <td>NY</td>\n",
       "      <td>NEW YORK</td>\n",
       "      <td>2018</td>\n",
       "      <td>10019</td>\n",
       "      <td>59th Street</td>\n",
       "      <td>36061.0</td>\n",
       "    </tr>\n",
       "    <tr>\n",
       "      <th>2</th>\n",
       "      <td>3379 HWY 482</td>\n",
       "      <td>NaN</td>\n",
       "      <td>Noble</td>\n",
       "      <td>6.854</td>\n",
       "      <td>SABINE</td>\n",
       "      <td>1009343</td>\n",
       "      <td>N2O</td>\n",
       "      <td>Nitrous Oxide</td>\n",
       "      <td>31.621528</td>\n",
       "      <td>-93.724774</td>\n",
       "      <td>LA</td>\n",
       "      <td>LOUISIANA</td>\n",
       "      <td>2012</td>\n",
       "      <td>71462</td>\n",
       "      <td>Baker Road Treater</td>\n",
       "      <td>22085.0</td>\n",
       "    </tr>\n",
       "    <tr>\n",
       "      <th>3</th>\n",
       "      <td>1012 BEAUCHAMP ST</td>\n",
       "      <td>NaN</td>\n",
       "      <td>GREENVILLE</td>\n",
       "      <td>53562.000</td>\n",
       "      <td>WASHINGTON COUNTY</td>\n",
       "      <td>1003557</td>\n",
       "      <td>CH4</td>\n",
       "      <td>Methane</td>\n",
       "      <td>33.392476</td>\n",
       "      <td>-91.017584</td>\n",
       "      <td>MS</td>\n",
       "      <td>MISSISSIPPI</td>\n",
       "      <td>2017</td>\n",
       "      <td>38701</td>\n",
       "      <td>TEXAS GAS TRANSMISSION - GREENVILLE STATION</td>\n",
       "      <td>28151.0</td>\n",
       "    </tr>\n",
       "    <tr>\n",
       "      <th>4</th>\n",
       "      <td>487 CORN CREEK ROAD</td>\n",
       "      <td>NaN</td>\n",
       "      <td>BEDFORD</td>\n",
       "      <td>7635064.700</td>\n",
       "      <td>Trimble</td>\n",
       "      <td>1006542</td>\n",
       "      <td>CO2</td>\n",
       "      <td>Carbon Dioxide</td>\n",
       "      <td>38.584700</td>\n",
       "      <td>-85.411700</td>\n",
       "      <td>KY</td>\n",
       "      <td>KENTUCKY</td>\n",
       "      <td>2018</td>\n",
       "      <td>40006</td>\n",
       "      <td>Trimble County</td>\n",
       "      <td>21223.0</td>\n",
       "    </tr>\n",
       "  </tbody>\n",
       "</table>\n",
       "</div>"
      ],
      "text/plain": [
       "  V_GHG_EMITTER_GAS.ADDRESS1  V_GHG_EMITTER_GAS.ADDRESS2  \\\n",
       "0           1919 S. BROADWAY                         NaN   \n",
       "1               850 12TH AVE                         NaN   \n",
       "2               3379 HWY 482                         NaN   \n",
       "3          1012 BEAUCHAMP ST                         NaN   \n",
       "4        487 CORN CREEK ROAD                         NaN   \n",
       "\n",
       "  V_GHG_EMITTER_GAS.CITY  V_GHG_EMITTER_GAS.CO2E_EMISSION  \\\n",
       "0              GREEN BAY                        58024.000   \n",
       "1               NEW YORK                          134.500   \n",
       "2                  Noble                            6.854   \n",
       "3             GREENVILLE                        53562.000   \n",
       "4                BEDFORD                      7635064.700   \n",
       "\n",
       "  V_GHG_EMITTER_GAS.COUNTY  V_GHG_EMITTER_GAS.FACILITY_ID  \\\n",
       "0             BROWN COUNTY                        1000589   \n",
       "1                 New York                        1000766   \n",
       "2                   SABINE                        1009343   \n",
       "3        WASHINGTON COUNTY                        1003557   \n",
       "4                  Trimble                        1006542   \n",
       "\n",
       "  V_GHG_EMITTER_GAS.GAS_CODE V_GHG_EMITTER_GAS.GAS_NAME  \\\n",
       "0                     BIOCO2               Biogenic CO2   \n",
       "1                        CH4                    Methane   \n",
       "2                        N2O              Nitrous Oxide   \n",
       "3                        CH4                    Methane   \n",
       "4                        CO2             Carbon Dioxide   \n",
       "\n",
       "   V_GHG_EMITTER_GAS.LATITUDE  V_GHG_EMITTER_GAS.LONGITUDE  \\\n",
       "0                   44.492500                   -88.032300   \n",
       "1                   40.771100                   -73.991100   \n",
       "2                   31.621528                   -93.724774   \n",
       "3                   33.392476                   -91.017584   \n",
       "4                   38.584700                   -85.411700   \n",
       "\n",
       "  V_GHG_EMITTER_GAS.STATE V_GHG_EMITTER_GAS.STATE_NAME  \\\n",
       "0                      WI                    WISCONSIN   \n",
       "1                      NY                     NEW YORK   \n",
       "2                      LA                    LOUISIANA   \n",
       "3                      MS                  MISSISSIPPI   \n",
       "4                      KY                     KENTUCKY   \n",
       "\n",
       "   V_GHG_EMITTER_GAS.YEAR  V_GHG_EMITTER_GAS.ZIP  \\\n",
       "0                    2017                  54304   \n",
       "1                    2018                  10019   \n",
       "2                    2012                  71462   \n",
       "3                    2017                  38701   \n",
       "4                    2018                  40006   \n",
       "\n",
       "               V_GHG_EMITTER_GAS.FACILITY_NAME  V_GHG_EMITTER_GAS.COUNTY_FIPS  \n",
       "0      GEORGIA-PACIFIC CONSUMER OPERATIONS LLC                        55009.0  \n",
       "1                                  59th Street                        36061.0  \n",
       "2                           Baker Road Treater                        22085.0  \n",
       "3  TEXAS GAS TRANSMISSION - GREENVILLE STATION                        28151.0  \n",
       "4                               Trimble County                        21223.0  "
      ]
     },
     "metadata": {},
     "output_type": "display_data"
    },
    {
     "data": {
      "text/plain": [
       "(219928, 16)"
      ]
     },
     "metadata": {},
     "output_type": "display_data"
    }
   ],
   "source": [
    "display(gasType.head())\n",
    "display(gasType.shape)"
   ]
  },
  {
   "cell_type": "markdown",
   "id": "1da66ac0-c494-42f5-8e44-f58d400a1a7e",
   "metadata": {},
   "source": [
    "The shape of `gasType` is (219928, 16). The grauality of the dataset is consistent. Each row represents one emission record. **(not unique on [facility_id, year])** Since our main focus is on CO2 emission, posssible useful features include:\n",
    "- **id/name:**\n",
    "    - `V_GHG_EMITTER_GAS.FACILITY_ID` (unique key to join other tables)\n",
    "    - `V_GHG_EMITTER_GAS.FACILITY_NAME` (name)\n",
    "- **location:** \n",
    "    - `V_GHG_EMITTER_GAS.STATE` (state)\n",
    "    - `V_GHG_EMITTER_GAS.COUNTY` (county)\n",
    "    - `V_GHG_EMITTER_GAS.CITY` (city)\n",
    "    - `V_GHG_EMITTER_GAS.ZIP` (zip code)\n",
    "- **target feature:**\n",
    "    - `V_GHG_EMITTER_GAS.YEAR` (emission year, not foundation year)\n",
    "    - `V_GHG_EMITTER_GAS.CO2E_EMISSION` (CO2 emission, not included in facility)"
   ]
  },
  {
   "cell_type": "code",
   "execution_count": 4,
   "id": "6ecd1a88-e076-4a6e-aba0-a9590592fe09",
   "metadata": {},
   "outputs": [
    {
     "data": {
      "text/plain": [
       "array([2018, 2010, 2014, 2015, 2017, 2012, 2016, 2013, 2019, 2011])"
      ]
     },
     "execution_count": 4,
     "metadata": {},
     "output_type": "execute_result"
    }
   ],
   "source": [
    "# `V_GHG_EMITTER_GAS.FACILITY_ID` presents emission year, not facility foudation year\n",
    "gasType[gasType[\"V_GHG_EMITTER_GAS.FACILITY_ID\"] == 1000001]['V_GHG_EMITTER_GAS.YEAR'].unique()"
   ]
  },
  {
   "cell_type": "markdown",
   "id": "5816bcd0-9c6d-4b13-b6ae-00c013526bdc",
   "metadata": {},
   "source": [
    "## 1.2. `facility` Explore"
   ]
  },
  {
   "cell_type": "code",
   "execution_count": 5,
   "id": "30fdcc25-b063-478a-8d75-0bb035c211a2",
   "metadata": {},
   "outputs": [
    {
     "data": {
      "text/html": [
       "<div>\n",
       "<style scoped>\n",
       "    .dataframe tbody tr th:only-of-type {\n",
       "        vertical-align: middle;\n",
       "    }\n",
       "\n",
       "    .dataframe tbody tr th {\n",
       "        vertical-align: top;\n",
       "    }\n",
       "\n",
       "    .dataframe thead th {\n",
       "        text-align: right;\n",
       "    }\n",
       "</style>\n",
       "<table border=\"1\" class=\"dataframe\">\n",
       "  <thead>\n",
       "    <tr style=\"text-align: right;\">\n",
       "      <th></th>\n",
       "      <th>V_GHG_EMITTER_FACILITIES.ADDRESS1</th>\n",
       "      <th>V_GHG_EMITTER_FACILITIES.ADDRESS2</th>\n",
       "      <th>V_GHG_EMITTER_FACILITIES.CEMS_USED</th>\n",
       "      <th>V_GHG_EMITTER_FACILITIES.CITY</th>\n",
       "      <th>V_GHG_EMITTER_FACILITIES.COUNTY</th>\n",
       "      <th>V_GHG_EMITTER_FACILITIES.COUNTY_FIPS</th>\n",
       "      <th>V_GHG_EMITTER_FACILITIES.FACILITY_ID</th>\n",
       "      <th>V_GHG_EMITTER_FACILITIES.LATITUDE</th>\n",
       "      <th>V_GHG_EMITTER_FACILITIES.LONGITUDE</th>\n",
       "      <th>V_GHG_EMITTER_FACILITIES.PRIMARY_NAICS_CODE</th>\n",
       "      <th>...</th>\n",
       "      <th>V_GHG_EMITTER_FACILITIES.STATE_NAME</th>\n",
       "      <th>V_GHG_EMITTER_FACILITIES.YEAR</th>\n",
       "      <th>V_GHG_EMITTER_FACILITIES.ZIP</th>\n",
       "      <th>V_GHG_EMITTER_FACILITIES.FACILITY_NAME</th>\n",
       "      <th>V_GHG_EMITTER_FACILITIES.SECONDARY_NAICS_CODE</th>\n",
       "      <th>V_GHG_EMITTER_FACILITIES.ADDITIONAL_NAICS_CODES</th>\n",
       "      <th>V_GHG_EMITTER_FACILITIES.COGENERATION_UNIT_EMISS_IND</th>\n",
       "      <th>V_GHG_EMITTER_FACILITIES.EPA_VERIFIED</th>\n",
       "      <th>V_GHG_EMITTER_FACILITIES.PARENT_COMPANY</th>\n",
       "      <th>V_GHG_EMITTER_FACILITIES.PLANT_CODE_INDICATOR</th>\n",
       "    </tr>\n",
       "  </thead>\n",
       "  <tbody>\n",
       "    <tr>\n",
       "      <th>0</th>\n",
       "      <td>301 Commerce Dr. Suite 3701</td>\n",
       "      <td>NaN</td>\n",
       "      <td>NaN</td>\n",
       "      <td>Fort Worth</td>\n",
       "      <td>NaN</td>\n",
       "      <td>NaN</td>\n",
       "      <td>1008536.0</td>\n",
       "      <td>35.533760</td>\n",
       "      <td>-97.529760</td>\n",
       "      <td>211111.0</td>\n",
       "      <td>...</td>\n",
       "      <td>TEXAS</td>\n",
       "      <td>2012.0</td>\n",
       "      <td>76102.0</td>\n",
       "      <td>TEP Barnett USA LLC  415 - Strawn Basin</td>\n",
       "      <td>NaN</td>\n",
       "      <td>NaN</td>\n",
       "      <td>N</td>\n",
       "      <td>NaN</td>\n",
       "      <td>CHESAPEAKE ENERGY CORP (100%)</td>\n",
       "      <td>NaN</td>\n",
       "    </tr>\n",
       "    <tr>\n",
       "      <th>1</th>\n",
       "      <td>449 Shell E&amp;P Court</td>\n",
       "      <td>NaN</td>\n",
       "      <td>NaN</td>\n",
       "      <td>Gibson</td>\n",
       "      <td>TERREBONNE</td>\n",
       "      <td>22109.0</td>\n",
       "      <td>1005071.0</td>\n",
       "      <td>29.628790</td>\n",
       "      <td>-90.917680</td>\n",
       "      <td>211112.0</td>\n",
       "      <td>...</td>\n",
       "      <td>LOUISIANA</td>\n",
       "      <td>2011.0</td>\n",
       "      <td>70358.0</td>\n",
       "      <td>North Terrebonne Gas Plant</td>\n",
       "      <td>NaN</td>\n",
       "      <td>NaN</td>\n",
       "      <td>N</td>\n",
       "      <td>NaN</td>\n",
       "      <td>ENTERPRISE GAS PROCESSING  LLC (64.19%); DCP M...</td>\n",
       "      <td>NaN</td>\n",
       "    </tr>\n",
       "    <tr>\n",
       "      <th>2</th>\n",
       "      <td>5494 MALONE ROAD</td>\n",
       "      <td>NaN</td>\n",
       "      <td>NaN</td>\n",
       "      <td>MEMPHIS</td>\n",
       "      <td>SHELBY COUNTY</td>\n",
       "      <td>47157.0</td>\n",
       "      <td>1002466.0</td>\n",
       "      <td>34.999213</td>\n",
       "      <td>-89.906724</td>\n",
       "      <td>562212.0</td>\n",
       "      <td>...</td>\n",
       "      <td>TENNESSEE</td>\n",
       "      <td>2017.0</td>\n",
       "      <td>38116.0</td>\n",
       "      <td>SOUTH SHELBY LANDFILL</td>\n",
       "      <td>NaN</td>\n",
       "      <td>NaN</td>\n",
       "      <td>N</td>\n",
       "      <td>NaN</td>\n",
       "      <td>REPUBLIC SERVICES INC (100%)</td>\n",
       "      <td>N</td>\n",
       "    </tr>\n",
       "    <tr>\n",
       "      <th>3</th>\n",
       "      <td>1601 WEEDON ISLAND DRIVE</td>\n",
       "      <td>NaN</td>\n",
       "      <td>NaN</td>\n",
       "      <td>SAINT PETERSBURG</td>\n",
       "      <td>Pinellas</td>\n",
       "      <td>12103.0</td>\n",
       "      <td>1001489.0</td>\n",
       "      <td>27.861300</td>\n",
       "      <td>-82.601200</td>\n",
       "      <td>221112.0</td>\n",
       "      <td>...</td>\n",
       "      <td>FLORIDA</td>\n",
       "      <td>2015.0</td>\n",
       "      <td>33702.0</td>\n",
       "      <td>P L Bartow Power Plant</td>\n",
       "      <td>NaN</td>\n",
       "      <td>NaN</td>\n",
       "      <td>N</td>\n",
       "      <td>NaN</td>\n",
       "      <td>DUKE ENERGY CORP (100%)</td>\n",
       "      <td>Y</td>\n",
       "    </tr>\n",
       "    <tr>\n",
       "      <th>4</th>\n",
       "      <td>NaN</td>\n",
       "      <td>NaN</td>\n",
       "      <td>NaN</td>\n",
       "      <td>Rhome</td>\n",
       "      <td>WISE COUNTY</td>\n",
       "      <td>48497.0</td>\n",
       "      <td>1007509.0</td>\n",
       "      <td>33.052600</td>\n",
       "      <td>-97.411400</td>\n",
       "      <td>211112.0</td>\n",
       "      <td>...</td>\n",
       "      <td>TEXAS</td>\n",
       "      <td>2015.0</td>\n",
       "      <td>76078.0</td>\n",
       "      <td>Ross Compressor Station</td>\n",
       "      <td>NaN</td>\n",
       "      <td>NaN</td>\n",
       "      <td>N</td>\n",
       "      <td>NaN</td>\n",
       "      <td>SWG PIPELINE  LLC (100%)</td>\n",
       "      <td>Y</td>\n",
       "    </tr>\n",
       "  </tbody>\n",
       "</table>\n",
       "<p>5 rows × 21 columns</p>\n",
       "</div>"
      ],
      "text/plain": [
       "  V_GHG_EMITTER_FACILITIES.ADDRESS1 V_GHG_EMITTER_FACILITIES.ADDRESS2  \\\n",
       "0       301 Commerce Dr. Suite 3701                               NaN   \n",
       "1               449 Shell E&P Court                               NaN   \n",
       "2                  5494 MALONE ROAD                               NaN   \n",
       "3          1601 WEEDON ISLAND DRIVE                               NaN   \n",
       "4                               NaN                               NaN   \n",
       "\n",
       "   V_GHG_EMITTER_FACILITIES.CEMS_USED V_GHG_EMITTER_FACILITIES.CITY  \\\n",
       "0                                 NaN                    Fort Worth   \n",
       "1                                 NaN                        Gibson   \n",
       "2                                 NaN                       MEMPHIS   \n",
       "3                                 NaN              SAINT PETERSBURG   \n",
       "4                                 NaN                         Rhome   \n",
       "\n",
       "  V_GHG_EMITTER_FACILITIES.COUNTY  V_GHG_EMITTER_FACILITIES.COUNTY_FIPS  \\\n",
       "0                             NaN                                   NaN   \n",
       "1                      TERREBONNE                               22109.0   \n",
       "2                   SHELBY COUNTY                               47157.0   \n",
       "3                        Pinellas                               12103.0   \n",
       "4                     WISE COUNTY                               48497.0   \n",
       "\n",
       "   V_GHG_EMITTER_FACILITIES.FACILITY_ID  V_GHG_EMITTER_FACILITIES.LATITUDE  \\\n",
       "0                             1008536.0                          35.533760   \n",
       "1                             1005071.0                          29.628790   \n",
       "2                             1002466.0                          34.999213   \n",
       "3                             1001489.0                          27.861300   \n",
       "4                             1007509.0                          33.052600   \n",
       "\n",
       "   V_GHG_EMITTER_FACILITIES.LONGITUDE  \\\n",
       "0                          -97.529760   \n",
       "1                          -90.917680   \n",
       "2                          -89.906724   \n",
       "3                          -82.601200   \n",
       "4                          -97.411400   \n",
       "\n",
       "   V_GHG_EMITTER_FACILITIES.PRIMARY_NAICS_CODE  ...  \\\n",
       "0                                     211111.0  ...   \n",
       "1                                     211112.0  ...   \n",
       "2                                     562212.0  ...   \n",
       "3                                     221112.0  ...   \n",
       "4                                     211112.0  ...   \n",
       "\n",
       "  V_GHG_EMITTER_FACILITIES.STATE_NAME V_GHG_EMITTER_FACILITIES.YEAR  \\\n",
       "0                               TEXAS                        2012.0   \n",
       "1                           LOUISIANA                        2011.0   \n",
       "2                           TENNESSEE                        2017.0   \n",
       "3                             FLORIDA                        2015.0   \n",
       "4                               TEXAS                        2015.0   \n",
       "\n",
       "   V_GHG_EMITTER_FACILITIES.ZIP   V_GHG_EMITTER_FACILITIES.FACILITY_NAME  \\\n",
       "0                       76102.0  TEP Barnett USA LLC  415 - Strawn Basin   \n",
       "1                       70358.0               North Terrebonne Gas Plant   \n",
       "2                       38116.0                    SOUTH SHELBY LANDFILL   \n",
       "3                       33702.0                   P L Bartow Power Plant   \n",
       "4                       76078.0                  Ross Compressor Station   \n",
       "\n",
       "  V_GHG_EMITTER_FACILITIES.SECONDARY_NAICS_CODE  \\\n",
       "0                                           NaN   \n",
       "1                                           NaN   \n",
       "2                                           NaN   \n",
       "3                                           NaN   \n",
       "4                                           NaN   \n",
       "\n",
       "   V_GHG_EMITTER_FACILITIES.ADDITIONAL_NAICS_CODES  \\\n",
       "0                                              NaN   \n",
       "1                                              NaN   \n",
       "2                                              NaN   \n",
       "3                                              NaN   \n",
       "4                                              NaN   \n",
       "\n",
       "  V_GHG_EMITTER_FACILITIES.COGENERATION_UNIT_EMISS_IND  \\\n",
       "0                                                  N     \n",
       "1                                                  N     \n",
       "2                                                  N     \n",
       "3                                                  N     \n",
       "4                                                  N     \n",
       "\n",
       "  V_GHG_EMITTER_FACILITIES.EPA_VERIFIED  \\\n",
       "0                                   NaN   \n",
       "1                                   NaN   \n",
       "2                                   NaN   \n",
       "3                                   NaN   \n",
       "4                                   NaN   \n",
       "\n",
       "             V_GHG_EMITTER_FACILITIES.PARENT_COMPANY  \\\n",
       "0                      CHESAPEAKE ENERGY CORP (100%)   \n",
       "1  ENTERPRISE GAS PROCESSING  LLC (64.19%); DCP M...   \n",
       "2                       REPUBLIC SERVICES INC (100%)   \n",
       "3                            DUKE ENERGY CORP (100%)   \n",
       "4                           SWG PIPELINE  LLC (100%)   \n",
       "\n",
       "  V_GHG_EMITTER_FACILITIES.PLANT_CODE_INDICATOR  \n",
       "0                                           NaN  \n",
       "1                                           NaN  \n",
       "2                                             N  \n",
       "3                                             Y  \n",
       "4                                             Y  \n",
       "\n",
       "[5 rows x 21 columns]"
      ]
     },
     "metadata": {},
     "output_type": "display_data"
    },
    {
     "data": {
      "text/plain": [
       "(77106, 21)"
      ]
     },
     "metadata": {},
     "output_type": "display_data"
    }
   ],
   "source": [
    "display(facility.head())\n",
    "display(facility.shape)"
   ]
  },
  {
   "cell_type": "markdown",
   "id": "89c72f78-2f63-4997-859a-e9735ee43bdf",
   "metadata": {},
   "source": [
    "The shape of `facility` is (77106, 21). The grauality of the dataset is consistent. Each row represents one facility each year. **(unique on [facility_id, year])** Posssible useful features include:\n",
    "- **id/name:**\n",
    "    - `V_GHG_EMITTER_FACILITIES.FACILITY_ID` (unique key to join other tables)\n",
    "    - `V_GHG_EMITTER_FACILITIES.FACILITY_NAME` (name)\n",
    "    - `V_GHG_EMITTER_FACILITIES.PARENT_COMPANY` (parent company, not included in gasType)\n",
    "- **location:** \n",
    "    - `V_GHG_EMITTER_FACILITIES.STATE` (state)\n",
    "    - `V_GHG_EMITTER_FACILITIES.COUNTY` (county)\n",
    "    - `V_GHG_EMITTER_FACILITIES.CITY` (city)\n",
    "    - `V_GHG_EMITTER_FACILITIES.ZIP` (zip code)\n",
    "- **target feature:**\n",
    "    - `V_GHG_EMITTER_FACILITIES.YEAR` (emission year, not foundation year)\n",
    "    - `V_GHG_EMITTER_FACILITIES.PRIMARY_NAICS_CODE` (industry, not included in gasType)"
   ]
  },
  {
   "cell_type": "markdown",
   "id": "8bb44f27-3007-4de1-8866-88ae872a7666",
   "metadata": {},
   "source": [
    "## 1.3. `code6Digit` Explore"
   ]
  },
  {
   "cell_type": "code",
   "execution_count": 6,
   "id": "7de0bb04-38fb-4206-835a-bccd6591e705",
   "metadata": {},
   "outputs": [
    {
     "data": {
      "text/html": [
       "<div>\n",
       "<style scoped>\n",
       "    .dataframe tbody tr th:only-of-type {\n",
       "        vertical-align: middle;\n",
       "    }\n",
       "\n",
       "    .dataframe tbody tr th {\n",
       "        vertical-align: top;\n",
       "    }\n",
       "\n",
       "    .dataframe thead th {\n",
       "        text-align: right;\n",
       "    }\n",
       "</style>\n",
       "<table border=\"1\" class=\"dataframe\">\n",
       "  <thead>\n",
       "    <tr style=\"text-align: right;\">\n",
       "      <th></th>\n",
       "      <th>2022 NAICS Code</th>\n",
       "      <th>2022 NAICS Title</th>\n",
       "    </tr>\n",
       "  </thead>\n",
       "  <tbody>\n",
       "    <tr>\n",
       "      <th>0</th>\n",
       "      <td>111110</td>\n",
       "      <td>Soybean Farming</td>\n",
       "    </tr>\n",
       "    <tr>\n",
       "      <th>1</th>\n",
       "      <td>111120</td>\n",
       "      <td>Oilseed (except Soybean) Farming</td>\n",
       "    </tr>\n",
       "    <tr>\n",
       "      <th>2</th>\n",
       "      <td>111130</td>\n",
       "      <td>Dry Pea and Bean Farming</td>\n",
       "    </tr>\n",
       "    <tr>\n",
       "      <th>3</th>\n",
       "      <td>111140</td>\n",
       "      <td>Wheat Farming</td>\n",
       "    </tr>\n",
       "    <tr>\n",
       "      <th>4</th>\n",
       "      <td>111150</td>\n",
       "      <td>Corn Farming</td>\n",
       "    </tr>\n",
       "  </tbody>\n",
       "</table>\n",
       "</div>"
      ],
      "text/plain": [
       "   2022 NAICS Code                   2022 NAICS Title\n",
       "0           111110                    Soybean Farming\n",
       "1           111120  Oilseed (except Soybean) Farming \n",
       "2           111130          Dry Pea and Bean Farming \n",
       "3           111140                      Wheat Farming\n",
       "4           111150                      Corn Farming "
      ]
     },
     "metadata": {},
     "output_type": "display_data"
    },
    {
     "data": {
      "text/plain": [
       "(1012, 2)"
      ]
     },
     "metadata": {},
     "output_type": "display_data"
    }
   ],
   "source": [
    "display(code6Digit.head())\n",
    "display(code6Digit.shape)"
   ]
  },
  {
   "cell_type": "markdown",
   "id": "83e24f94-4020-4c54-87c8-de461232a5ea",
   "metadata": {},
   "source": [
    "`code6Digit` is a lookup table, storing 6-digit code and its industry. This dataset is provided by [United States Census Bureau](https://www.census.gov/naics/?48967). Click \"Reference Files\" then click \"Downloadable Files\", and you will find **6-digit 2022 Code File [XLSX, 43KB] for 2022**."
   ]
  },
  {
   "cell_type": "markdown",
   "id": "0e853e0d-1321-4354-8c3f-4114628676dd",
   "metadata": {},
   "source": [
    "## 1.4. `code2To6Digit` Explore"
   ]
  },
  {
   "cell_type": "code",
   "execution_count": 7,
   "id": "045da8b5-a29a-48c8-953c-42ae2eba6b48",
   "metadata": {},
   "outputs": [
    {
     "data": {
      "text/html": [
       "<div>\n",
       "<style scoped>\n",
       "    .dataframe tbody tr th:only-of-type {\n",
       "        vertical-align: middle;\n",
       "    }\n",
       "\n",
       "    .dataframe tbody tr th {\n",
       "        vertical-align: top;\n",
       "    }\n",
       "\n",
       "    .dataframe thead th {\n",
       "        text-align: right;\n",
       "    }\n",
       "</style>\n",
       "<table border=\"1\" class=\"dataframe\">\n",
       "  <thead>\n",
       "    <tr style=\"text-align: right;\">\n",
       "      <th></th>\n",
       "      <th>Seq. No.</th>\n",
       "      <th>2022 NAICS US   Code</th>\n",
       "      <th>2022 NAICS US Title</th>\n",
       "    </tr>\n",
       "  </thead>\n",
       "  <tbody>\n",
       "    <tr>\n",
       "      <th>0</th>\n",
       "      <td>1</td>\n",
       "      <td>11</td>\n",
       "      <td>Agriculture, Forestry, Fishing and Hunting</td>\n",
       "    </tr>\n",
       "    <tr>\n",
       "      <th>1</th>\n",
       "      <td>2</td>\n",
       "      <td>111</td>\n",
       "      <td>Crop Production</td>\n",
       "    </tr>\n",
       "    <tr>\n",
       "      <th>2</th>\n",
       "      <td>3</td>\n",
       "      <td>1111</td>\n",
       "      <td>Oilseed and Grain Farming</td>\n",
       "    </tr>\n",
       "    <tr>\n",
       "      <th>3</th>\n",
       "      <td>4</td>\n",
       "      <td>11111</td>\n",
       "      <td>Soybean Farming</td>\n",
       "    </tr>\n",
       "    <tr>\n",
       "      <th>4</th>\n",
       "      <td>5</td>\n",
       "      <td>111110</td>\n",
       "      <td>Soybean Farming</td>\n",
       "    </tr>\n",
       "  </tbody>\n",
       "</table>\n",
       "</div>"
      ],
      "text/plain": [
       "   Seq. No. 2022 NAICS US   Code                         2022 NAICS US Title\n",
       "0         1                   11  Agriculture, Forestry, Fishing and Hunting\n",
       "1         2                  111                             Crop Production\n",
       "2         3                 1111                   Oilseed and Grain Farming\n",
       "3         4                11111                             Soybean Farming\n",
       "4         5               111110                             Soybean Farming"
      ]
     },
     "metadata": {},
     "output_type": "display_data"
    },
    {
     "data": {
      "text/plain": [
       "(2125, 3)"
      ]
     },
     "metadata": {},
     "output_type": "display_data"
    }
   ],
   "source": [
    "display(code2To6Digit.head())\n",
    "display(code2To6Digit.shape)"
   ]
  },
  {
   "cell_type": "markdown",
   "id": "92b86728-820f-427e-9ac9-ab31c75f7894",
   "metadata": {},
   "source": [
    "`code2To6Digit` is a lookup table, storing code whose length is 2 to 6 and its title. This dataset is provided by [United States Census Bureau](https://www.census.gov/naics/?48967). Click \"Reference Files\" then click \"Downloadable Files\", and you will find **2-6 digit 2022 Code File [XLSX, 43KB] for 2022**."
   ]
  },
  {
   "cell_type": "markdown",
   "id": "3b6321e5-03b1-4218-b84c-90614dfba2b6",
   "metadata": {},
   "source": [
    "# 2. Data Cleaning"
   ]
  },
  {
   "cell_type": "markdown",
   "id": "e2b8974a-ec46-4e80-8857-20ca02956ef3",
   "metadata": {},
   "source": [
    "1. What type of data are you currently exploring?\n",
    "1. What is the granularity of the data?\n",
    "1. What does the distribution of the data look like? Are there any outliers? Are there any missing or invalid entries?"
   ]
  },
  {
   "cell_type": "markdown",
   "id": "3bbccf29-0a1a-4eda-a06b-657f9cb81d85",
   "metadata": {},
   "source": [
    "## 2.1. Rename Columns"
   ]
  },
  {
   "cell_type": "code",
   "execution_count": 8,
   "id": "58f45fa2-7dca-47e3-bc3b-411e89bbb751",
   "metadata": {},
   "outputs": [],
   "source": [
    "def renameCols(df):\n",
    "    for col in df.columns:\n",
    "        df = df.rename({col: col.split('.')[1].lower()}, axis = 1)\n",
    "    return df"
   ]
  },
  {
   "cell_type": "code",
   "execution_count": 9,
   "id": "ace4605f-d030-49b0-9dcb-9f7fdf4b2bbe",
   "metadata": {
    "tags": []
   },
   "outputs": [
    {
     "data": {
      "text/plain": [
       "Index(['address1', 'address2', 'city', 'co2e_emission', 'county',\n",
       "       'facility_id', 'gas_code', 'gas_name', 'latitude', 'longitude', 'state',\n",
       "       'state_name', 'year', 'zip', 'facility_name', 'county_fips'],\n",
       "      dtype='object')"
      ]
     },
     "metadata": {},
     "output_type": "display_data"
    },
    {
     "data": {
      "text/plain": [
       "Index(['address1', 'address2', 'cems_used', 'city', 'county', 'county_fips',\n",
       "       'facility_id', 'latitude', 'longitude', 'primary_naics_code', 'state',\n",
       "       'state_name', 'year', 'zip', 'facility_name', 'secondary_naics_code',\n",
       "       'additional_naics_codes', 'cogeneration_unit_emiss_ind', 'epa_verified',\n",
       "       'parent_company', 'plant_code_indicator'],\n",
       "      dtype='object')"
      ]
     },
     "metadata": {},
     "output_type": "display_data"
    },
    {
     "data": {
      "text/plain": [
       "Index(['code6Digit', 'title6Digit'], dtype='object')"
      ]
     },
     "metadata": {},
     "output_type": "display_data"
    },
    {
     "data": {
      "text/plain": [
       "Index(['Seq. No.', 'code', 'title'], dtype='object')"
      ]
     },
     "metadata": {},
     "output_type": "display_data"
    }
   ],
   "source": [
    "gasType = renameCols(gasType)\n",
    "facility = renameCols(facility)\n",
    "display(gasType.columns)\n",
    "display(facility.columns)\n",
    "\n",
    "code6Digit = code6Digit.rename({\"2022 NAICS Code\": \"code6Digit\"\n",
    "                                ,\"2022 NAICS Title\": \"title6Digit\"}, axis = 1)\n",
    "code2To6Digit = code2To6Digit.rename({\"2022 NAICS US   Code\": \"code\"\n",
    "                                      ,\"2022 NAICS US Title\": \"title\"}, axis = 1)\n",
    "display(code6Digit.columns)\n",
    "display(code2To6Digit.columns)"
   ]
  },
  {
   "cell_type": "markdown",
   "id": "1f20e986-d0e7-453d-b5b8-9086480c6935",
   "metadata": {},
   "source": [
    "## 2.2. Drop Columns"
   ]
  },
  {
   "cell_type": "code",
   "execution_count": 10,
   "id": "da81865d-43b6-4947-a2e9-1bbabbb2a722",
   "metadata": {},
   "outputs": [
    {
     "data": {
      "text/html": [
       "<div>\n",
       "<style scoped>\n",
       "    .dataframe tbody tr th:only-of-type {\n",
       "        vertical-align: middle;\n",
       "    }\n",
       "\n",
       "    .dataframe tbody tr th {\n",
       "        vertical-align: top;\n",
       "    }\n",
       "\n",
       "    .dataframe thead th {\n",
       "        text-align: right;\n",
       "    }\n",
       "</style>\n",
       "<table border=\"1\" class=\"dataframe\">\n",
       "  <thead>\n",
       "    <tr style=\"text-align: right;\">\n",
       "      <th></th>\n",
       "      <th>facility_id</th>\n",
       "      <th>facility_name</th>\n",
       "      <th>state</th>\n",
       "      <th>county</th>\n",
       "      <th>city</th>\n",
       "      <th>zip</th>\n",
       "      <th>year</th>\n",
       "      <th>co2e_emission</th>\n",
       "    </tr>\n",
       "  </thead>\n",
       "  <tbody>\n",
       "    <tr>\n",
       "      <th>0</th>\n",
       "      <td>1000589</td>\n",
       "      <td>GEORGIA-PACIFIC CONSUMER OPERATIONS LLC</td>\n",
       "      <td>WI</td>\n",
       "      <td>BROWN COUNTY</td>\n",
       "      <td>GREEN BAY</td>\n",
       "      <td>54304</td>\n",
       "      <td>2017</td>\n",
       "      <td>58024.000</td>\n",
       "    </tr>\n",
       "    <tr>\n",
       "      <th>1</th>\n",
       "      <td>1000766</td>\n",
       "      <td>59th Street</td>\n",
       "      <td>NY</td>\n",
       "      <td>New York</td>\n",
       "      <td>NEW YORK</td>\n",
       "      <td>10019</td>\n",
       "      <td>2018</td>\n",
       "      <td>134.500</td>\n",
       "    </tr>\n",
       "    <tr>\n",
       "      <th>2</th>\n",
       "      <td>1009343</td>\n",
       "      <td>Baker Road Treater</td>\n",
       "      <td>LA</td>\n",
       "      <td>SABINE</td>\n",
       "      <td>Noble</td>\n",
       "      <td>71462</td>\n",
       "      <td>2012</td>\n",
       "      <td>6.854</td>\n",
       "    </tr>\n",
       "    <tr>\n",
       "      <th>3</th>\n",
       "      <td>1003557</td>\n",
       "      <td>TEXAS GAS TRANSMISSION - GREENVILLE STATION</td>\n",
       "      <td>MS</td>\n",
       "      <td>WASHINGTON COUNTY</td>\n",
       "      <td>GREENVILLE</td>\n",
       "      <td>38701</td>\n",
       "      <td>2017</td>\n",
       "      <td>53562.000</td>\n",
       "    </tr>\n",
       "    <tr>\n",
       "      <th>4</th>\n",
       "      <td>1006542</td>\n",
       "      <td>Trimble County</td>\n",
       "      <td>KY</td>\n",
       "      <td>Trimble</td>\n",
       "      <td>BEDFORD</td>\n",
       "      <td>40006</td>\n",
       "      <td>2018</td>\n",
       "      <td>7635064.700</td>\n",
       "    </tr>\n",
       "  </tbody>\n",
       "</table>\n",
       "</div>"
      ],
      "text/plain": [
       "   facility_id                                facility_name state  \\\n",
       "0      1000589      GEORGIA-PACIFIC CONSUMER OPERATIONS LLC    WI   \n",
       "1      1000766                                  59th Street    NY   \n",
       "2      1009343                           Baker Road Treater    LA   \n",
       "3      1003557  TEXAS GAS TRANSMISSION - GREENVILLE STATION    MS   \n",
       "4      1006542                               Trimble County    KY   \n",
       "\n",
       "              county        city    zip  year  co2e_emission  \n",
       "0       BROWN COUNTY   GREEN BAY  54304  2017      58024.000  \n",
       "1           New York    NEW YORK  10019  2018        134.500  \n",
       "2             SABINE       Noble  71462  2012          6.854  \n",
       "3  WASHINGTON COUNTY  GREENVILLE  38701  2017      53562.000  \n",
       "4            Trimble     BEDFORD  40006  2018    7635064.700  "
      ]
     },
     "metadata": {},
     "output_type": "display_data"
    },
    {
     "data": {
      "text/html": [
       "<div>\n",
       "<style scoped>\n",
       "    .dataframe tbody tr th:only-of-type {\n",
       "        vertical-align: middle;\n",
       "    }\n",
       "\n",
       "    .dataframe tbody tr th {\n",
       "        vertical-align: top;\n",
       "    }\n",
       "\n",
       "    .dataframe thead th {\n",
       "        text-align: right;\n",
       "    }\n",
       "</style>\n",
       "<table border=\"1\" class=\"dataframe\">\n",
       "  <thead>\n",
       "    <tr style=\"text-align: right;\">\n",
       "      <th></th>\n",
       "      <th>facility_id</th>\n",
       "      <th>facility_name</th>\n",
       "      <th>parent_company</th>\n",
       "      <th>state</th>\n",
       "      <th>county</th>\n",
       "      <th>city</th>\n",
       "      <th>zip</th>\n",
       "      <th>year</th>\n",
       "      <th>primary_naics_code</th>\n",
       "    </tr>\n",
       "  </thead>\n",
       "  <tbody>\n",
       "    <tr>\n",
       "      <th>0</th>\n",
       "      <td>1008536.0</td>\n",
       "      <td>TEP Barnett USA LLC  415 - Strawn Basin</td>\n",
       "      <td>CHESAPEAKE ENERGY CORP (100%)</td>\n",
       "      <td>TX</td>\n",
       "      <td>NaN</td>\n",
       "      <td>Fort Worth</td>\n",
       "      <td>76102.0</td>\n",
       "      <td>2012.0</td>\n",
       "      <td>211111.0</td>\n",
       "    </tr>\n",
       "    <tr>\n",
       "      <th>1</th>\n",
       "      <td>1005071.0</td>\n",
       "      <td>North Terrebonne Gas Plant</td>\n",
       "      <td>ENTERPRISE GAS PROCESSING  LLC (64.19%); DCP M...</td>\n",
       "      <td>LA</td>\n",
       "      <td>TERREBONNE</td>\n",
       "      <td>Gibson</td>\n",
       "      <td>70358.0</td>\n",
       "      <td>2011.0</td>\n",
       "      <td>211112.0</td>\n",
       "    </tr>\n",
       "    <tr>\n",
       "      <th>2</th>\n",
       "      <td>1002466.0</td>\n",
       "      <td>SOUTH SHELBY LANDFILL</td>\n",
       "      <td>REPUBLIC SERVICES INC (100%)</td>\n",
       "      <td>TN</td>\n",
       "      <td>SHELBY COUNTY</td>\n",
       "      <td>MEMPHIS</td>\n",
       "      <td>38116.0</td>\n",
       "      <td>2017.0</td>\n",
       "      <td>562212.0</td>\n",
       "    </tr>\n",
       "    <tr>\n",
       "      <th>3</th>\n",
       "      <td>1001489.0</td>\n",
       "      <td>P L Bartow Power Plant</td>\n",
       "      <td>DUKE ENERGY CORP (100%)</td>\n",
       "      <td>FL</td>\n",
       "      <td>Pinellas</td>\n",
       "      <td>SAINT PETERSBURG</td>\n",
       "      <td>33702.0</td>\n",
       "      <td>2015.0</td>\n",
       "      <td>221112.0</td>\n",
       "    </tr>\n",
       "    <tr>\n",
       "      <th>4</th>\n",
       "      <td>1007509.0</td>\n",
       "      <td>Ross Compressor Station</td>\n",
       "      <td>SWG PIPELINE  LLC (100%)</td>\n",
       "      <td>TX</td>\n",
       "      <td>WISE COUNTY</td>\n",
       "      <td>Rhome</td>\n",
       "      <td>76078.0</td>\n",
       "      <td>2015.0</td>\n",
       "      <td>211112.0</td>\n",
       "    </tr>\n",
       "  </tbody>\n",
       "</table>\n",
       "</div>"
      ],
      "text/plain": [
       "   facility_id                            facility_name  \\\n",
       "0    1008536.0  TEP Barnett USA LLC  415 - Strawn Basin   \n",
       "1    1005071.0               North Terrebonne Gas Plant   \n",
       "2    1002466.0                    SOUTH SHELBY LANDFILL   \n",
       "3    1001489.0                   P L Bartow Power Plant   \n",
       "4    1007509.0                  Ross Compressor Station   \n",
       "\n",
       "                                      parent_company state         county  \\\n",
       "0                      CHESAPEAKE ENERGY CORP (100%)    TX            NaN   \n",
       "1  ENTERPRISE GAS PROCESSING  LLC (64.19%); DCP M...    LA     TERREBONNE   \n",
       "2                       REPUBLIC SERVICES INC (100%)    TN  SHELBY COUNTY   \n",
       "3                            DUKE ENERGY CORP (100%)    FL       Pinellas   \n",
       "4                           SWG PIPELINE  LLC (100%)    TX    WISE COUNTY   \n",
       "\n",
       "               city      zip    year  primary_naics_code  \n",
       "0        Fort Worth  76102.0  2012.0            211111.0  \n",
       "1            Gibson  70358.0  2011.0            211112.0  \n",
       "2           MEMPHIS  38116.0  2017.0            562212.0  \n",
       "3  SAINT PETERSBURG  33702.0  2015.0            221112.0  \n",
       "4             Rhome  76078.0  2015.0            211112.0  "
      ]
     },
     "metadata": {},
     "output_type": "display_data"
    },
    {
     "data": {
      "text/html": [
       "<div>\n",
       "<style scoped>\n",
       "    .dataframe tbody tr th:only-of-type {\n",
       "        vertical-align: middle;\n",
       "    }\n",
       "\n",
       "    .dataframe tbody tr th {\n",
       "        vertical-align: top;\n",
       "    }\n",
       "\n",
       "    .dataframe thead th {\n",
       "        text-align: right;\n",
       "    }\n",
       "</style>\n",
       "<table border=\"1\" class=\"dataframe\">\n",
       "  <thead>\n",
       "    <tr style=\"text-align: right;\">\n",
       "      <th></th>\n",
       "      <th>code6Digit</th>\n",
       "      <th>title6Digit</th>\n",
       "    </tr>\n",
       "  </thead>\n",
       "  <tbody>\n",
       "    <tr>\n",
       "      <th>0</th>\n",
       "      <td>111110</td>\n",
       "      <td>Soybean Farming</td>\n",
       "    </tr>\n",
       "    <tr>\n",
       "      <th>1</th>\n",
       "      <td>111120</td>\n",
       "      <td>Oilseed (except Soybean) Farming</td>\n",
       "    </tr>\n",
       "    <tr>\n",
       "      <th>2</th>\n",
       "      <td>111130</td>\n",
       "      <td>Dry Pea and Bean Farming</td>\n",
       "    </tr>\n",
       "    <tr>\n",
       "      <th>3</th>\n",
       "      <td>111140</td>\n",
       "      <td>Wheat Farming</td>\n",
       "    </tr>\n",
       "    <tr>\n",
       "      <th>4</th>\n",
       "      <td>111150</td>\n",
       "      <td>Corn Farming</td>\n",
       "    </tr>\n",
       "  </tbody>\n",
       "</table>\n",
       "</div>"
      ],
      "text/plain": [
       "   code6Digit                        title6Digit\n",
       "0      111110                    Soybean Farming\n",
       "1      111120  Oilseed (except Soybean) Farming \n",
       "2      111130          Dry Pea and Bean Farming \n",
       "3      111140                      Wheat Farming\n",
       "4      111150                      Corn Farming "
      ]
     },
     "metadata": {},
     "output_type": "display_data"
    },
    {
     "data": {
      "text/html": [
       "<div>\n",
       "<style scoped>\n",
       "    .dataframe tbody tr th:only-of-type {\n",
       "        vertical-align: middle;\n",
       "    }\n",
       "\n",
       "    .dataframe tbody tr th {\n",
       "        vertical-align: top;\n",
       "    }\n",
       "\n",
       "    .dataframe thead th {\n",
       "        text-align: right;\n",
       "    }\n",
       "</style>\n",
       "<table border=\"1\" class=\"dataframe\">\n",
       "  <thead>\n",
       "    <tr style=\"text-align: right;\">\n",
       "      <th></th>\n",
       "      <th>code</th>\n",
       "      <th>title</th>\n",
       "    </tr>\n",
       "  </thead>\n",
       "  <tbody>\n",
       "    <tr>\n",
       "      <th>0</th>\n",
       "      <td>11</td>\n",
       "      <td>Agriculture, Forestry, Fishing and Hunting</td>\n",
       "    </tr>\n",
       "    <tr>\n",
       "      <th>1</th>\n",
       "      <td>111</td>\n",
       "      <td>Crop Production</td>\n",
       "    </tr>\n",
       "    <tr>\n",
       "      <th>2</th>\n",
       "      <td>1111</td>\n",
       "      <td>Oilseed and Grain Farming</td>\n",
       "    </tr>\n",
       "    <tr>\n",
       "      <th>3</th>\n",
       "      <td>11111</td>\n",
       "      <td>Soybean Farming</td>\n",
       "    </tr>\n",
       "    <tr>\n",
       "      <th>4</th>\n",
       "      <td>111110</td>\n",
       "      <td>Soybean Farming</td>\n",
       "    </tr>\n",
       "  </tbody>\n",
       "</table>\n",
       "</div>"
      ],
      "text/plain": [
       "     code                                       title\n",
       "0      11  Agriculture, Forestry, Fishing and Hunting\n",
       "1     111                             Crop Production\n",
       "2    1111                   Oilseed and Grain Farming\n",
       "3   11111                             Soybean Farming\n",
       "4  111110                             Soybean Farming"
      ]
     },
     "metadata": {},
     "output_type": "display_data"
    }
   ],
   "source": [
    "gasType = gasType[[\"facility_id\", \"facility_name\"\n",
    "                  ,\"state\", \"county\", \"city\", \"zip\"\n",
    "                  ,\"year\", \"co2e_emission\"]]\n",
    "facility = facility[[\"facility_id\", \"facility_name\", \"parent_company\"\n",
    "                    ,\"state\", \"county\", \"city\", \"zip\"\n",
    "                    ,\"year\", \"primary_naics_code\"]]\n",
    "code2To6Digit = code2To6Digit.iloc[:,[1,2]]\n",
    "display(gasType.head())\n",
    "display(facility.head())\n",
    "display(code6Digit.head())\n",
    "display(code2To6Digit.head())"
   ]
  },
  {
   "cell_type": "markdown",
   "id": "51f0d267-d9c7-4e43-bd15-8175fda9b6d7",
   "metadata": {},
   "source": [
    "## 2.3. Missing Values"
   ]
  },
  {
   "cell_type": "code",
   "execution_count": 11,
   "id": "4f1222aa-7f60-43c9-af99-b9abf6eb7862",
   "metadata": {},
   "outputs": [
    {
     "name": "stdout",
     "output_type": "stream",
     "text": [
      "facility_id 0\n",
      "facility_name 0\n",
      "state 0\n",
      "county 7774\n",
      "city 0\n",
      "zip 0\n",
      "year 0\n",
      "co2e_emission 0\n",
      "\n",
      "facility_id 2\n",
      "facility_name 2\n",
      "parent_company 1353\n",
      "state 2\n",
      "county 2680\n",
      "city 2\n",
      "zip 2\n",
      "year 2\n",
      "primary_naics_code 4\n",
      "\n",
      "code6Digit 0\n",
      "title6Digit 0\n",
      "\n",
      "code 0\n",
      "title 0\n",
      "\n"
     ]
    }
   ],
   "source": [
    "def countNA(df):\n",
    "    for col in df.columns:\n",
    "        print(col, sum(df[col].isna()))\n",
    "    print()\n",
    "\n",
    "countNA(gasType)\n",
    "countNA(facility)\n",
    "countNA(code6Digit)\n",
    "countNA(code2To6Digit)"
   ]
  },
  {
   "cell_type": "markdown",
   "id": "5eccd33e-b552-4938-b044-4d7d139cdb49",
   "metadata": {},
   "source": [
    "**Conclusion:**\n",
    "- Since too many missing values exist in `county`, it's better to drop this column.\n",
    "- `facility_name`, `state`, `city`, `year`, `primary_naics_code` have only 2 missing values, it's acceptable to drop the row with missing values.\n",
    "- `parent_company` still has 1353 missing values."
   ]
  },
  {
   "cell_type": "code",
   "execution_count": 12,
   "id": "fc63e951-0269-4178-808d-49c9d43544d7",
   "metadata": {},
   "outputs": [
    {
     "name": "stdout",
     "output_type": "stream",
     "text": [
      "facility_id 0\n",
      "facility_name 0\n",
      "state 0\n",
      "city 0\n",
      "zip 0\n",
      "year 0\n",
      "co2e_emission 0\n",
      "\n",
      "facility_id 0\n",
      "facility_name 0\n",
      "parent_company 1350\n",
      "state 0\n",
      "city 0\n",
      "zip 0\n",
      "year 0\n",
      "primary_naics_code 0\n",
      "\n",
      "code6Digit 0\n",
      "title6Digit 0\n",
      "\n",
      "code 0\n",
      "title 0\n",
      "\n"
     ]
    }
   ],
   "source": [
    "gasType.drop(\"county\", axis = 1, inplace = True)\n",
    "facility.drop(\"county\", axis = 1, inplace = True)\n",
    "facility = facility[~facility[\"facility_name\"].isna() & ~facility[\"state\"].isna() & ~facility[\"city\"].isna() & ~facility[\"year\"].isna() & ~facility[\"primary_naics_code\"].isna()]\n",
    "countNA(gasType)\n",
    "countNA(facility)\n",
    "countNA(code6Digit)\n",
    "countNA(code2To6Digit)"
   ]
  },
  {
   "cell_type": "markdown",
   "id": "57457cdb-d9c8-43c1-9a90-7da32372ecf2",
   "metadata": {},
   "source": [
    "## 2.4. Wrong Data Types"
   ]
  },
  {
   "cell_type": "code",
   "execution_count": 13,
   "id": "d610aa94-f5d6-4a85-be3f-606a485f3a9b",
   "metadata": {},
   "outputs": [
    {
     "data": {
      "text/html": [
       "<div>\n",
       "<style scoped>\n",
       "    .dataframe tbody tr th:only-of-type {\n",
       "        vertical-align: middle;\n",
       "    }\n",
       "\n",
       "    .dataframe tbody tr th {\n",
       "        vertical-align: top;\n",
       "    }\n",
       "\n",
       "    .dataframe thead th {\n",
       "        text-align: right;\n",
       "    }\n",
       "</style>\n",
       "<table border=\"1\" class=\"dataframe\">\n",
       "  <thead>\n",
       "    <tr style=\"text-align: right;\">\n",
       "      <th></th>\n",
       "      <th>facility_id</th>\n",
       "      <th>facility_name</th>\n",
       "      <th>state</th>\n",
       "      <th>city</th>\n",
       "      <th>zip</th>\n",
       "      <th>year</th>\n",
       "      <th>co2e_emission</th>\n",
       "    </tr>\n",
       "  </thead>\n",
       "  <tbody>\n",
       "    <tr>\n",
       "      <th>0</th>\n",
       "      <td>1000589</td>\n",
       "      <td>GEORGIA-PACIFIC CONSUMER OPERATIONS LLC</td>\n",
       "      <td>WI</td>\n",
       "      <td>GREEN BAY</td>\n",
       "      <td>54304</td>\n",
       "      <td>2017</td>\n",
       "      <td>58024.000</td>\n",
       "    </tr>\n",
       "    <tr>\n",
       "      <th>1</th>\n",
       "      <td>1000766</td>\n",
       "      <td>59th Street</td>\n",
       "      <td>NY</td>\n",
       "      <td>NEW YORK</td>\n",
       "      <td>10019</td>\n",
       "      <td>2018</td>\n",
       "      <td>134.500</td>\n",
       "    </tr>\n",
       "    <tr>\n",
       "      <th>2</th>\n",
       "      <td>1009343</td>\n",
       "      <td>Baker Road Treater</td>\n",
       "      <td>LA</td>\n",
       "      <td>Noble</td>\n",
       "      <td>71462</td>\n",
       "      <td>2012</td>\n",
       "      <td>6.854</td>\n",
       "    </tr>\n",
       "    <tr>\n",
       "      <th>3</th>\n",
       "      <td>1003557</td>\n",
       "      <td>TEXAS GAS TRANSMISSION - GREENVILLE STATION</td>\n",
       "      <td>MS</td>\n",
       "      <td>GREENVILLE</td>\n",
       "      <td>38701</td>\n",
       "      <td>2017</td>\n",
       "      <td>53562.000</td>\n",
       "    </tr>\n",
       "    <tr>\n",
       "      <th>4</th>\n",
       "      <td>1006542</td>\n",
       "      <td>Trimble County</td>\n",
       "      <td>KY</td>\n",
       "      <td>BEDFORD</td>\n",
       "      <td>40006</td>\n",
       "      <td>2018</td>\n",
       "      <td>7635064.700</td>\n",
       "    </tr>\n",
       "  </tbody>\n",
       "</table>\n",
       "</div>"
      ],
      "text/plain": [
       "   facility_id                                facility_name state        city  \\\n",
       "0      1000589      GEORGIA-PACIFIC CONSUMER OPERATIONS LLC    WI   GREEN BAY   \n",
       "1      1000766                                  59th Street    NY    NEW YORK   \n",
       "2      1009343                           Baker Road Treater    LA       Noble   \n",
       "3      1003557  TEXAS GAS TRANSMISSION - GREENVILLE STATION    MS  GREENVILLE   \n",
       "4      1006542                               Trimble County    KY     BEDFORD   \n",
       "\n",
       "     zip  year  co2e_emission  \n",
       "0  54304  2017      58024.000  \n",
       "1  10019  2018        134.500  \n",
       "2  71462  2012          6.854  \n",
       "3  38701  2017      53562.000  \n",
       "4  40006  2018    7635064.700  "
      ]
     },
     "metadata": {},
     "output_type": "display_data"
    },
    {
     "data": {
      "text/plain": [
       "facility_id        int64\n",
       "facility_name     object\n",
       "state             object\n",
       "city              object\n",
       "zip                int64\n",
       "year               int64\n",
       "co2e_emission    float64\n",
       "dtype: object"
      ]
     },
     "metadata": {},
     "output_type": "display_data"
    },
    {
     "name": "stdout",
     "output_type": "stream",
     "text": [
      "\n",
      "\n",
      "\n",
      "\n"
     ]
    },
    {
     "data": {
      "text/html": [
       "<div>\n",
       "<style scoped>\n",
       "    .dataframe tbody tr th:only-of-type {\n",
       "        vertical-align: middle;\n",
       "    }\n",
       "\n",
       "    .dataframe tbody tr th {\n",
       "        vertical-align: top;\n",
       "    }\n",
       "\n",
       "    .dataframe thead th {\n",
       "        text-align: right;\n",
       "    }\n",
       "</style>\n",
       "<table border=\"1\" class=\"dataframe\">\n",
       "  <thead>\n",
       "    <tr style=\"text-align: right;\">\n",
       "      <th></th>\n",
       "      <th>facility_id</th>\n",
       "      <th>facility_name</th>\n",
       "      <th>parent_company</th>\n",
       "      <th>state</th>\n",
       "      <th>city</th>\n",
       "      <th>zip</th>\n",
       "      <th>year</th>\n",
       "      <th>primary_naics_code</th>\n",
       "    </tr>\n",
       "  </thead>\n",
       "  <tbody>\n",
       "    <tr>\n",
       "      <th>0</th>\n",
       "      <td>1008536.0</td>\n",
       "      <td>TEP Barnett USA LLC  415 - Strawn Basin</td>\n",
       "      <td>CHESAPEAKE ENERGY CORP (100%)</td>\n",
       "      <td>TX</td>\n",
       "      <td>Fort Worth</td>\n",
       "      <td>76102.0</td>\n",
       "      <td>2012.0</td>\n",
       "      <td>211111.0</td>\n",
       "    </tr>\n",
       "    <tr>\n",
       "      <th>1</th>\n",
       "      <td>1005071.0</td>\n",
       "      <td>North Terrebonne Gas Plant</td>\n",
       "      <td>ENTERPRISE GAS PROCESSING  LLC (64.19%); DCP M...</td>\n",
       "      <td>LA</td>\n",
       "      <td>Gibson</td>\n",
       "      <td>70358.0</td>\n",
       "      <td>2011.0</td>\n",
       "      <td>211112.0</td>\n",
       "    </tr>\n",
       "    <tr>\n",
       "      <th>2</th>\n",
       "      <td>1002466.0</td>\n",
       "      <td>SOUTH SHELBY LANDFILL</td>\n",
       "      <td>REPUBLIC SERVICES INC (100%)</td>\n",
       "      <td>TN</td>\n",
       "      <td>MEMPHIS</td>\n",
       "      <td>38116.0</td>\n",
       "      <td>2017.0</td>\n",
       "      <td>562212.0</td>\n",
       "    </tr>\n",
       "    <tr>\n",
       "      <th>3</th>\n",
       "      <td>1001489.0</td>\n",
       "      <td>P L Bartow Power Plant</td>\n",
       "      <td>DUKE ENERGY CORP (100%)</td>\n",
       "      <td>FL</td>\n",
       "      <td>SAINT PETERSBURG</td>\n",
       "      <td>33702.0</td>\n",
       "      <td>2015.0</td>\n",
       "      <td>221112.0</td>\n",
       "    </tr>\n",
       "    <tr>\n",
       "      <th>4</th>\n",
       "      <td>1007509.0</td>\n",
       "      <td>Ross Compressor Station</td>\n",
       "      <td>SWG PIPELINE  LLC (100%)</td>\n",
       "      <td>TX</td>\n",
       "      <td>Rhome</td>\n",
       "      <td>76078.0</td>\n",
       "      <td>2015.0</td>\n",
       "      <td>211112.0</td>\n",
       "    </tr>\n",
       "  </tbody>\n",
       "</table>\n",
       "</div>"
      ],
      "text/plain": [
       "   facility_id                            facility_name  \\\n",
       "0    1008536.0  TEP Barnett USA LLC  415 - Strawn Basin   \n",
       "1    1005071.0               North Terrebonne Gas Plant   \n",
       "2    1002466.0                    SOUTH SHELBY LANDFILL   \n",
       "3    1001489.0                   P L Bartow Power Plant   \n",
       "4    1007509.0                  Ross Compressor Station   \n",
       "\n",
       "                                      parent_company state              city  \\\n",
       "0                      CHESAPEAKE ENERGY CORP (100%)    TX        Fort Worth   \n",
       "1  ENTERPRISE GAS PROCESSING  LLC (64.19%); DCP M...    LA            Gibson   \n",
       "2                       REPUBLIC SERVICES INC (100%)    TN           MEMPHIS   \n",
       "3                            DUKE ENERGY CORP (100%)    FL  SAINT PETERSBURG   \n",
       "4                           SWG PIPELINE  LLC (100%)    TX             Rhome   \n",
       "\n",
       "       zip    year  primary_naics_code  \n",
       "0  76102.0  2012.0            211111.0  \n",
       "1  70358.0  2011.0            211112.0  \n",
       "2  38116.0  2017.0            562212.0  \n",
       "3  33702.0  2015.0            221112.0  \n",
       "4  76078.0  2015.0            211112.0  "
      ]
     },
     "metadata": {},
     "output_type": "display_data"
    },
    {
     "data": {
      "text/plain": [
       "facility_id           float64\n",
       "facility_name          object\n",
       "parent_company         object\n",
       "state                  object\n",
       "city                   object\n",
       "zip                   float64\n",
       "year                  float64\n",
       "primary_naics_code    float64\n",
       "dtype: object"
      ]
     },
     "metadata": {},
     "output_type": "display_data"
    },
    {
     "name": "stdout",
     "output_type": "stream",
     "text": [
      "\n",
      "\n",
      "\n",
      "\n"
     ]
    },
    {
     "data": {
      "text/html": [
       "<div>\n",
       "<style scoped>\n",
       "    .dataframe tbody tr th:only-of-type {\n",
       "        vertical-align: middle;\n",
       "    }\n",
       "\n",
       "    .dataframe tbody tr th {\n",
       "        vertical-align: top;\n",
       "    }\n",
       "\n",
       "    .dataframe thead th {\n",
       "        text-align: right;\n",
       "    }\n",
       "</style>\n",
       "<table border=\"1\" class=\"dataframe\">\n",
       "  <thead>\n",
       "    <tr style=\"text-align: right;\">\n",
       "      <th></th>\n",
       "      <th>code6Digit</th>\n",
       "      <th>title6Digit</th>\n",
       "    </tr>\n",
       "  </thead>\n",
       "  <tbody>\n",
       "    <tr>\n",
       "      <th>0</th>\n",
       "      <td>111110</td>\n",
       "      <td>Soybean Farming</td>\n",
       "    </tr>\n",
       "    <tr>\n",
       "      <th>1</th>\n",
       "      <td>111120</td>\n",
       "      <td>Oilseed (except Soybean) Farming</td>\n",
       "    </tr>\n",
       "    <tr>\n",
       "      <th>2</th>\n",
       "      <td>111130</td>\n",
       "      <td>Dry Pea and Bean Farming</td>\n",
       "    </tr>\n",
       "    <tr>\n",
       "      <th>3</th>\n",
       "      <td>111140</td>\n",
       "      <td>Wheat Farming</td>\n",
       "    </tr>\n",
       "    <tr>\n",
       "      <th>4</th>\n",
       "      <td>111150</td>\n",
       "      <td>Corn Farming</td>\n",
       "    </tr>\n",
       "  </tbody>\n",
       "</table>\n",
       "</div>"
      ],
      "text/plain": [
       "   code6Digit                        title6Digit\n",
       "0      111110                    Soybean Farming\n",
       "1      111120  Oilseed (except Soybean) Farming \n",
       "2      111130          Dry Pea and Bean Farming \n",
       "3      111140                      Wheat Farming\n",
       "4      111150                      Corn Farming "
      ]
     },
     "metadata": {},
     "output_type": "display_data"
    },
    {
     "data": {
      "text/plain": [
       "code6Digit      int64\n",
       "title6Digit    object\n",
       "dtype: object"
      ]
     },
     "metadata": {},
     "output_type": "display_data"
    },
    {
     "name": "stdout",
     "output_type": "stream",
     "text": [
      "\n",
      "\n",
      "\n",
      "\n"
     ]
    },
    {
     "data": {
      "text/html": [
       "<div>\n",
       "<style scoped>\n",
       "    .dataframe tbody tr th:only-of-type {\n",
       "        vertical-align: middle;\n",
       "    }\n",
       "\n",
       "    .dataframe tbody tr th {\n",
       "        vertical-align: top;\n",
       "    }\n",
       "\n",
       "    .dataframe thead th {\n",
       "        text-align: right;\n",
       "    }\n",
       "</style>\n",
       "<table border=\"1\" class=\"dataframe\">\n",
       "  <thead>\n",
       "    <tr style=\"text-align: right;\">\n",
       "      <th></th>\n",
       "      <th>code</th>\n",
       "      <th>title</th>\n",
       "    </tr>\n",
       "  </thead>\n",
       "  <tbody>\n",
       "    <tr>\n",
       "      <th>0</th>\n",
       "      <td>11</td>\n",
       "      <td>Agriculture, Forestry, Fishing and Hunting</td>\n",
       "    </tr>\n",
       "    <tr>\n",
       "      <th>1</th>\n",
       "      <td>111</td>\n",
       "      <td>Crop Production</td>\n",
       "    </tr>\n",
       "    <tr>\n",
       "      <th>2</th>\n",
       "      <td>1111</td>\n",
       "      <td>Oilseed and Grain Farming</td>\n",
       "    </tr>\n",
       "    <tr>\n",
       "      <th>3</th>\n",
       "      <td>11111</td>\n",
       "      <td>Soybean Farming</td>\n",
       "    </tr>\n",
       "    <tr>\n",
       "      <th>4</th>\n",
       "      <td>111110</td>\n",
       "      <td>Soybean Farming</td>\n",
       "    </tr>\n",
       "  </tbody>\n",
       "</table>\n",
       "</div>"
      ],
      "text/plain": [
       "     code                                       title\n",
       "0      11  Agriculture, Forestry, Fishing and Hunting\n",
       "1     111                             Crop Production\n",
       "2    1111                   Oilseed and Grain Farming\n",
       "3   11111                             Soybean Farming\n",
       "4  111110                             Soybean Farming"
      ]
     },
     "metadata": {},
     "output_type": "display_data"
    },
    {
     "data": {
      "text/plain": [
       "code     object\n",
       "title    object\n",
       "dtype: object"
      ]
     },
     "metadata": {},
     "output_type": "display_data"
    }
   ],
   "source": [
    "display(gasType.head())\n",
    "display(gasType.dtypes)\n",
    "print(\"\\n\\n\\n\")\n",
    "display(facility.head())\n",
    "display(facility.dtypes)\n",
    "print(\"\\n\\n\\n\")\n",
    "display(code6Digit.head())\n",
    "display(code6Digit.dtypes)\n",
    "print(\"\\n\\n\\n\")\n",
    "display(code2To6Digit.head())\n",
    "display(code2To6Digit.dtypes)"
   ]
  },
  {
   "cell_type": "markdown",
   "id": "0233d271-283b-4520-a8df-ba6a439175a9",
   "metadata": {},
   "source": [
    "- `facility_id` should be `str`\n",
    "- `zip` should be `str`\n",
    "- `year` should be `int`\n",
    "- `primary_naics_code` and `\"2022 NAICS Code` should be `str`"
   ]
  },
  {
   "cell_type": "code",
   "execution_count": 14,
   "id": "69234768-5abf-4d55-9844-bee381170757",
   "metadata": {
    "tags": []
   },
   "outputs": [
    {
     "data": {
      "text/plain": [
       "facility_id       object\n",
       "facility_name     object\n",
       "state             object\n",
       "city              object\n",
       "zip               object\n",
       "year               int64\n",
       "co2e_emission    float64\n",
       "dtype: object"
      ]
     },
     "metadata": {},
     "output_type": "display_data"
    },
    {
     "name": "stdout",
     "output_type": "stream",
     "text": [
      "\n"
     ]
    },
    {
     "data": {
      "text/plain": [
       "facility_id           object\n",
       "facility_name         object\n",
       "parent_company        object\n",
       "state                 object\n",
       "city                  object\n",
       "zip                   object\n",
       "year                   int64\n",
       "primary_naics_code    object\n",
       "dtype: object"
      ]
     },
     "metadata": {},
     "output_type": "display_data"
    },
    {
     "name": "stdout",
     "output_type": "stream",
     "text": [
      "\n"
     ]
    },
    {
     "data": {
      "text/plain": [
       "code6Digit     object\n",
       "title6Digit    object\n",
       "dtype: object"
      ]
     },
     "metadata": {},
     "output_type": "display_data"
    },
    {
     "name": "stdout",
     "output_type": "stream",
     "text": [
      "\n"
     ]
    },
    {
     "data": {
      "text/plain": [
       "code     object\n",
       "title    object\n",
       "dtype: object"
      ]
     },
     "metadata": {},
     "output_type": "display_data"
    }
   ],
   "source": [
    "def toString(df, cols):\n",
    "    for col in cols:\n",
    "        df[col] = df[col].astype(\"str\")\n",
    "    return df\n",
    "\n",
    "toString(gasType, [\"facility_id\", \"zip\"])\n",
    "toString(facility, [\"facility_id\", \"zip\", \"primary_naics_code\"])\n",
    "toString(code6Digit, [\"code6Digit\"])\n",
    "facility[\"year\"] = facility[\"year\"].astype(\"int\")\n",
    "\n",
    "display(gasType.dtypes)\n",
    "print()\n",
    "display(facility.dtypes)\n",
    "print()\n",
    "display(code6Digit.dtypes)\n",
    "print()\n",
    "display(code2To6Digit.dtypes)"
   ]
  },
  {
   "cell_type": "markdown",
   "id": "a45b3ecb-1fb9-434c-960f-3c596b8ea3c1",
   "metadata": {},
   "source": [
    "## 2.5 Other Data Issues"
   ]
  },
  {
   "cell_type": "markdown",
   "id": "a6d56d54-81f1-4013-a73f-95a6cab8188d",
   "metadata": {},
   "source": [
    "Some data issues:\n",
    "- Both upper case and lower case are used in several features. e.g. GREEN BAY and Noble\n",
    "- `facility_id`, `zip` are ended with \".0\"\n",
    "- More than one parent companies exist in `parent_company`, use the first company as its unique parent company"
   ]
  },
  {
   "cell_type": "code",
   "execution_count": 15,
   "id": "81b1fa37-42a6-4f3e-9b6b-d67174101b96",
   "metadata": {},
   "outputs": [
    {
     "data": {
      "text/html": [
       "<div>\n",
       "<style scoped>\n",
       "    .dataframe tbody tr th:only-of-type {\n",
       "        vertical-align: middle;\n",
       "    }\n",
       "\n",
       "    .dataframe tbody tr th {\n",
       "        vertical-align: top;\n",
       "    }\n",
       "\n",
       "    .dataframe thead th {\n",
       "        text-align: right;\n",
       "    }\n",
       "</style>\n",
       "<table border=\"1\" class=\"dataframe\">\n",
       "  <thead>\n",
       "    <tr style=\"text-align: right;\">\n",
       "      <th></th>\n",
       "      <th>facility_id</th>\n",
       "      <th>facility_name</th>\n",
       "      <th>state</th>\n",
       "      <th>city</th>\n",
       "      <th>zip</th>\n",
       "      <th>year</th>\n",
       "      <th>co2e_emission</th>\n",
       "    </tr>\n",
       "  </thead>\n",
       "  <tbody>\n",
       "    <tr>\n",
       "      <th>0</th>\n",
       "      <td>1000589</td>\n",
       "      <td>GEORGIA-PACIFIC CONSUMER OPERATIONS LLC</td>\n",
       "      <td>WI</td>\n",
       "      <td>GREEN BAY</td>\n",
       "      <td>54304</td>\n",
       "      <td>2017</td>\n",
       "      <td>58024.000</td>\n",
       "    </tr>\n",
       "    <tr>\n",
       "      <th>1</th>\n",
       "      <td>1000766</td>\n",
       "      <td>59TH STREET</td>\n",
       "      <td>NY</td>\n",
       "      <td>NEW YORK</td>\n",
       "      <td>10019</td>\n",
       "      <td>2018</td>\n",
       "      <td>134.500</td>\n",
       "    </tr>\n",
       "    <tr>\n",
       "      <th>2</th>\n",
       "      <td>1009343</td>\n",
       "      <td>BAKER ROAD TREATER</td>\n",
       "      <td>LA</td>\n",
       "      <td>NOBLE</td>\n",
       "      <td>71462</td>\n",
       "      <td>2012</td>\n",
       "      <td>6.854</td>\n",
       "    </tr>\n",
       "    <tr>\n",
       "      <th>3</th>\n",
       "      <td>1003557</td>\n",
       "      <td>TEXAS GAS TRANSMISSION - GREENVILLE STATION</td>\n",
       "      <td>MS</td>\n",
       "      <td>GREENVILLE</td>\n",
       "      <td>38701</td>\n",
       "      <td>2017</td>\n",
       "      <td>53562.000</td>\n",
       "    </tr>\n",
       "    <tr>\n",
       "      <th>4</th>\n",
       "      <td>1006542</td>\n",
       "      <td>TRIMBLE COUNTY</td>\n",
       "      <td>KY</td>\n",
       "      <td>BEDFORD</td>\n",
       "      <td>40006</td>\n",
       "      <td>2018</td>\n",
       "      <td>7635064.700</td>\n",
       "    </tr>\n",
       "  </tbody>\n",
       "</table>\n",
       "</div>"
      ],
      "text/plain": [
       "  facility_id                                facility_name state        city  \\\n",
       "0     1000589      GEORGIA-PACIFIC CONSUMER OPERATIONS LLC    WI   GREEN BAY   \n",
       "1     1000766                                  59TH STREET    NY    NEW YORK   \n",
       "2     1009343                           BAKER ROAD TREATER    LA       NOBLE   \n",
       "3     1003557  TEXAS GAS TRANSMISSION - GREENVILLE STATION    MS  GREENVILLE   \n",
       "4     1006542                               TRIMBLE COUNTY    KY     BEDFORD   \n",
       "\n",
       "     zip  year  co2e_emission  \n",
       "0  54304  2017      58024.000  \n",
       "1  10019  2018        134.500  \n",
       "2  71462  2012          6.854  \n",
       "3  38701  2017      53562.000  \n",
       "4  40006  2018    7635064.700  "
      ]
     },
     "metadata": {},
     "output_type": "display_data"
    },
    {
     "data": {
      "text/html": [
       "<div>\n",
       "<style scoped>\n",
       "    .dataframe tbody tr th:only-of-type {\n",
       "        vertical-align: middle;\n",
       "    }\n",
       "\n",
       "    .dataframe tbody tr th {\n",
       "        vertical-align: top;\n",
       "    }\n",
       "\n",
       "    .dataframe thead th {\n",
       "        text-align: right;\n",
       "    }\n",
       "</style>\n",
       "<table border=\"1\" class=\"dataframe\">\n",
       "  <thead>\n",
       "    <tr style=\"text-align: right;\">\n",
       "      <th></th>\n",
       "      <th>facility_id</th>\n",
       "      <th>facility_name</th>\n",
       "      <th>parent_company</th>\n",
       "      <th>state</th>\n",
       "      <th>city</th>\n",
       "      <th>zip</th>\n",
       "      <th>year</th>\n",
       "      <th>primary_naics_code</th>\n",
       "    </tr>\n",
       "  </thead>\n",
       "  <tbody>\n",
       "    <tr>\n",
       "      <th>0</th>\n",
       "      <td>1008536.0</td>\n",
       "      <td>TEP BARNETT USA LLC  415 - STRAWN BASIN</td>\n",
       "      <td>CHESAPEAKE ENERGY CORP (100%)</td>\n",
       "      <td>TX</td>\n",
       "      <td>FORT WORTH</td>\n",
       "      <td>76102.0</td>\n",
       "      <td>2012</td>\n",
       "      <td>211111.0</td>\n",
       "    </tr>\n",
       "    <tr>\n",
       "      <th>1</th>\n",
       "      <td>1005071.0</td>\n",
       "      <td>NORTH TERREBONNE GAS PLANT</td>\n",
       "      <td>ENTERPRISE GAS PROCESSING  LLC (64.19%); DCP M...</td>\n",
       "      <td>LA</td>\n",
       "      <td>GIBSON</td>\n",
       "      <td>70358.0</td>\n",
       "      <td>2011</td>\n",
       "      <td>211112.0</td>\n",
       "    </tr>\n",
       "    <tr>\n",
       "      <th>2</th>\n",
       "      <td>1002466.0</td>\n",
       "      <td>SOUTH SHELBY LANDFILL</td>\n",
       "      <td>REPUBLIC SERVICES INC (100%)</td>\n",
       "      <td>TN</td>\n",
       "      <td>MEMPHIS</td>\n",
       "      <td>38116.0</td>\n",
       "      <td>2017</td>\n",
       "      <td>562212.0</td>\n",
       "    </tr>\n",
       "    <tr>\n",
       "      <th>3</th>\n",
       "      <td>1001489.0</td>\n",
       "      <td>P L BARTOW POWER PLANT</td>\n",
       "      <td>DUKE ENERGY CORP (100%)</td>\n",
       "      <td>FL</td>\n",
       "      <td>SAINT PETERSBURG</td>\n",
       "      <td>33702.0</td>\n",
       "      <td>2015</td>\n",
       "      <td>221112.0</td>\n",
       "    </tr>\n",
       "    <tr>\n",
       "      <th>4</th>\n",
       "      <td>1007509.0</td>\n",
       "      <td>ROSS COMPRESSOR STATION</td>\n",
       "      <td>SWG PIPELINE  LLC (100%)</td>\n",
       "      <td>TX</td>\n",
       "      <td>RHOME</td>\n",
       "      <td>76078.0</td>\n",
       "      <td>2015</td>\n",
       "      <td>211112.0</td>\n",
       "    </tr>\n",
       "  </tbody>\n",
       "</table>\n",
       "</div>"
      ],
      "text/plain": [
       "  facility_id                            facility_name  \\\n",
       "0   1008536.0  TEP BARNETT USA LLC  415 - STRAWN BASIN   \n",
       "1   1005071.0               NORTH TERREBONNE GAS PLANT   \n",
       "2   1002466.0                    SOUTH SHELBY LANDFILL   \n",
       "3   1001489.0                   P L BARTOW POWER PLANT   \n",
       "4   1007509.0                  ROSS COMPRESSOR STATION   \n",
       "\n",
       "                                      parent_company state              city  \\\n",
       "0                      CHESAPEAKE ENERGY CORP (100%)    TX        FORT WORTH   \n",
       "1  ENTERPRISE GAS PROCESSING  LLC (64.19%); DCP M...    LA            GIBSON   \n",
       "2                       REPUBLIC SERVICES INC (100%)    TN           MEMPHIS   \n",
       "3                            DUKE ENERGY CORP (100%)    FL  SAINT PETERSBURG   \n",
       "4                           SWG PIPELINE  LLC (100%)    TX             RHOME   \n",
       "\n",
       "       zip  year primary_naics_code  \n",
       "0  76102.0  2012           211111.0  \n",
       "1  70358.0  2011           211112.0  \n",
       "2  38116.0  2017           562212.0  \n",
       "3  33702.0  2015           221112.0  \n",
       "4  76078.0  2015           211112.0  "
      ]
     },
     "metadata": {},
     "output_type": "display_data"
    }
   ],
   "source": [
    "def toUpperCase(df):\n",
    "    for col in df.columns:\n",
    "        if col in (\"facility_id\", \"zip\", \"year\", \"co2e_emission\", \"primary_naics_code\"):\n",
    "            continue\n",
    "        df[col] = df[col].str.upper()\n",
    "    return\n",
    "\n",
    "toUpperCase(gasType)\n",
    "toUpperCase(facility)\n",
    "display(gasType.head())\n",
    "display(facility.head())"
   ]
  },
  {
   "cell_type": "code",
   "execution_count": 16,
   "id": "1a748383-a6f0-4a89-a125-78f27b2546e8",
   "metadata": {},
   "outputs": [
    {
     "data": {
      "text/html": [
       "<div>\n",
       "<style scoped>\n",
       "    .dataframe tbody tr th:only-of-type {\n",
       "        vertical-align: middle;\n",
       "    }\n",
       "\n",
       "    .dataframe tbody tr th {\n",
       "        vertical-align: top;\n",
       "    }\n",
       "\n",
       "    .dataframe thead th {\n",
       "        text-align: right;\n",
       "    }\n",
       "</style>\n",
       "<table border=\"1\" class=\"dataframe\">\n",
       "  <thead>\n",
       "    <tr style=\"text-align: right;\">\n",
       "      <th></th>\n",
       "      <th>facility_id</th>\n",
       "      <th>facility_name</th>\n",
       "      <th>parent_company</th>\n",
       "      <th>state</th>\n",
       "      <th>city</th>\n",
       "      <th>zip</th>\n",
       "      <th>year</th>\n",
       "      <th>primary_naics_code</th>\n",
       "    </tr>\n",
       "  </thead>\n",
       "  <tbody>\n",
       "    <tr>\n",
       "      <th>0</th>\n",
       "      <td>1008536</td>\n",
       "      <td>TEP BARNETT USA LLC  415 - STRAWN BASIN</td>\n",
       "      <td>CHESAPEAKE ENERGY CORP (100%)</td>\n",
       "      <td>TX</td>\n",
       "      <td>FORT WORTH</td>\n",
       "      <td>76102</td>\n",
       "      <td>2012</td>\n",
       "      <td>211111</td>\n",
       "    </tr>\n",
       "    <tr>\n",
       "      <th>1</th>\n",
       "      <td>1005071</td>\n",
       "      <td>NORTH TERREBONNE GAS PLANT</td>\n",
       "      <td>ENTERPRISE GAS PROCESSING  LLC (64.19%); DCP M...</td>\n",
       "      <td>LA</td>\n",
       "      <td>GIBSON</td>\n",
       "      <td>70358</td>\n",
       "      <td>2011</td>\n",
       "      <td>211112</td>\n",
       "    </tr>\n",
       "    <tr>\n",
       "      <th>2</th>\n",
       "      <td>1002466</td>\n",
       "      <td>SOUTH SHELBY LANDFILL</td>\n",
       "      <td>REPUBLIC SERVICES INC (100%)</td>\n",
       "      <td>TN</td>\n",
       "      <td>MEMPHIS</td>\n",
       "      <td>38116</td>\n",
       "      <td>2017</td>\n",
       "      <td>562212</td>\n",
       "    </tr>\n",
       "    <tr>\n",
       "      <th>3</th>\n",
       "      <td>1001489</td>\n",
       "      <td>P L BARTOW POWER PLANT</td>\n",
       "      <td>DUKE ENERGY CORP (100%)</td>\n",
       "      <td>FL</td>\n",
       "      <td>SAINT PETERSBURG</td>\n",
       "      <td>33702</td>\n",
       "      <td>2015</td>\n",
       "      <td>221112</td>\n",
       "    </tr>\n",
       "    <tr>\n",
       "      <th>4</th>\n",
       "      <td>1007509</td>\n",
       "      <td>ROSS COMPRESSOR STATION</td>\n",
       "      <td>SWG PIPELINE  LLC (100%)</td>\n",
       "      <td>TX</td>\n",
       "      <td>RHOME</td>\n",
       "      <td>76078</td>\n",
       "      <td>2015</td>\n",
       "      <td>211112</td>\n",
       "    </tr>\n",
       "  </tbody>\n",
       "</table>\n",
       "</div>"
      ],
      "text/plain": [
       "  facility_id                            facility_name  \\\n",
       "0     1008536  TEP BARNETT USA LLC  415 - STRAWN BASIN   \n",
       "1     1005071               NORTH TERREBONNE GAS PLANT   \n",
       "2     1002466                    SOUTH SHELBY LANDFILL   \n",
       "3     1001489                   P L BARTOW POWER PLANT   \n",
       "4     1007509                  ROSS COMPRESSOR STATION   \n",
       "\n",
       "                                      parent_company state              city  \\\n",
       "0                      CHESAPEAKE ENERGY CORP (100%)    TX        FORT WORTH   \n",
       "1  ENTERPRISE GAS PROCESSING  LLC (64.19%); DCP M...    LA            GIBSON   \n",
       "2                       REPUBLIC SERVICES INC (100%)    TN           MEMPHIS   \n",
       "3                            DUKE ENERGY CORP (100%)    FL  SAINT PETERSBURG   \n",
       "4                           SWG PIPELINE  LLC (100%)    TX             RHOME   \n",
       "\n",
       "     zip  year primary_naics_code  \n",
       "0  76102  2012             211111  \n",
       "1  70358  2011             211112  \n",
       "2  38116  2017             562212  \n",
       "3  33702  2015             221112  \n",
       "4  76078  2015             211112  "
      ]
     },
     "metadata": {},
     "output_type": "display_data"
    }
   ],
   "source": [
    "def stripZero(df, cols):\n",
    "    for col in cols:\n",
    "        df[col] = df[col].astype(\"str\").str[:-2]\n",
    "    return df\n",
    "\n",
    "stripZero(facility, [\"facility_id\", \"zip\", \"primary_naics_code\"])\n",
    "display(facility.head())"
   ]
  },
  {
   "cell_type": "code",
   "execution_count": 17,
   "id": "c4a9549d-7b2d-431a-8be8-5dc937edab0b",
   "metadata": {},
   "outputs": [
    {
     "data": {
      "text/plain": [
       "0            CHESAPEAKE ENERGY CORP\n",
       "1    ENTERPRISE GAS PROCESSING  LLC\n",
       "2             REPUBLIC SERVICES INC\n",
       "3                  DUKE ENERGY CORP\n",
       "4                 SWG PIPELINE  LLC\n",
       "Name: parent_company, dtype: object"
      ]
     },
     "execution_count": 17,
     "metadata": {},
     "output_type": "execute_result"
    }
   ],
   "source": [
    "# Use the first company as its unique parent company\n",
    "facility[\"parent_company\"] = facility[\"parent_company\"].str.split('(').str[0].str.strip()\n",
    "facility[\"parent_company\"].head()"
   ]
  },
  {
   "cell_type": "markdown",
   "id": "f102a062-9c9a-4942-bd7b-da69273142a2",
   "metadata": {},
   "source": [
    "## 2.6. Merge Three DataFrames"
   ]
  },
  {
   "cell_type": "markdown",
   "id": "687e7d28-fc0f-4801-b260-aac0c230dd3d",
   "metadata": {},
   "source": [
    "Notice:\n",
    "- Each row in `gasType` represents one emission record, so it's **not unique** on key = [\"facility_id\", \"year\"].\n",
    "- Each row in `facility` represents one facility's infomation each year, so it's **unique** on key = [\"facility_id\", \"year\"].\n",
    "- `code6Digit` is a lookup table, storing 6-digit code and its industry."
   ]
  },
  {
   "cell_type": "code",
   "execution_count": 18,
   "id": "b28663d4-fc5e-4dd0-bea9-2d68838aec96",
   "metadata": {},
   "outputs": [
    {
     "data": {
      "text/html": [
       "<div>\n",
       "<style scoped>\n",
       "    .dataframe tbody tr th:only-of-type {\n",
       "        vertical-align: middle;\n",
       "    }\n",
       "\n",
       "    .dataframe tbody tr th {\n",
       "        vertical-align: top;\n",
       "    }\n",
       "\n",
       "    .dataframe thead th {\n",
       "        text-align: right;\n",
       "    }\n",
       "</style>\n",
       "<table border=\"1\" class=\"dataframe\">\n",
       "  <thead>\n",
       "    <tr style=\"text-align: right;\">\n",
       "      <th></th>\n",
       "      <th>facility_id</th>\n",
       "      <th>facility_name</th>\n",
       "      <th>state</th>\n",
       "      <th>city</th>\n",
       "      <th>zip</th>\n",
       "      <th>year</th>\n",
       "      <th>co2e_emission</th>\n",
       "      <th>parent_company</th>\n",
       "      <th>primary_naics_code</th>\n",
       "      <th>code6Digit</th>\n",
       "      <th>title6Digit</th>\n",
       "    </tr>\n",
       "  </thead>\n",
       "  <tbody>\n",
       "    <tr>\n",
       "      <th>0</th>\n",
       "      <td>1000766</td>\n",
       "      <td>59TH STREET</td>\n",
       "      <td>NY</td>\n",
       "      <td>NEW YORK</td>\n",
       "      <td>10019</td>\n",
       "      <td>2018</td>\n",
       "      <td>134.500</td>\n",
       "      <td>CONSOLIDATED EDISON INC</td>\n",
       "      <td>221330</td>\n",
       "      <td>221330</td>\n",
       "      <td>Steam and Air-Conditioning Supply</td>\n",
       "    </tr>\n",
       "    <tr>\n",
       "      <th>1</th>\n",
       "      <td>1000766</td>\n",
       "      <td>59TH STREET</td>\n",
       "      <td>NY</td>\n",
       "      <td>NEW YORK</td>\n",
       "      <td>10019</td>\n",
       "      <td>2018</td>\n",
       "      <td>260083.100</td>\n",
       "      <td>CONSOLIDATED EDISON INC</td>\n",
       "      <td>221330</td>\n",
       "      <td>221330</td>\n",
       "      <td>Steam and Air-Conditioning Supply</td>\n",
       "    </tr>\n",
       "    <tr>\n",
       "      <th>2</th>\n",
       "      <td>1000766</td>\n",
       "      <td>59TH STREET</td>\n",
       "      <td>NY</td>\n",
       "      <td>NEW YORK</td>\n",
       "      <td>10019</td>\n",
       "      <td>2018</td>\n",
       "      <td>188.336</td>\n",
       "      <td>CONSOLIDATED EDISON INC</td>\n",
       "      <td>221330</td>\n",
       "      <td>221330</td>\n",
       "      <td>Steam and Air-Conditioning Supply</td>\n",
       "    </tr>\n",
       "    <tr>\n",
       "      <th>3</th>\n",
       "      <td>1003084</td>\n",
       "      <td>VICINITY ENERGY TRENTON  L.P.</td>\n",
       "      <td>NJ</td>\n",
       "      <td>TRENTON</td>\n",
       "      <td>8608</td>\n",
       "      <td>2018</td>\n",
       "      <td>32049.200</td>\n",
       "      <td>VEOLIA ENVIRONMENT NORTH AMERICAN OPERATIONS INC</td>\n",
       "      <td>221330</td>\n",
       "      <td>221330</td>\n",
       "      <td>Steam and Air-Conditioning Supply</td>\n",
       "    </tr>\n",
       "    <tr>\n",
       "      <th>4</th>\n",
       "      <td>1003084</td>\n",
       "      <td>VICINITY ENERGY TRENTON  L.P.</td>\n",
       "      <td>NJ</td>\n",
       "      <td>TRENTON</td>\n",
       "      <td>8608</td>\n",
       "      <td>2018</td>\n",
       "      <td>15.000</td>\n",
       "      <td>VEOLIA ENVIRONMENT NORTH AMERICAN OPERATIONS INC</td>\n",
       "      <td>221330</td>\n",
       "      <td>221330</td>\n",
       "      <td>Steam and Air-Conditioning Supply</td>\n",
       "    </tr>\n",
       "  </tbody>\n",
       "</table>\n",
       "</div>"
      ],
      "text/plain": [
       "  facility_id                  facility_name state      city    zip  year  \\\n",
       "0     1000766                    59TH STREET    NY  NEW YORK  10019  2018   \n",
       "1     1000766                    59TH STREET    NY  NEW YORK  10019  2018   \n",
       "2     1000766                    59TH STREET    NY  NEW YORK  10019  2018   \n",
       "3     1003084  VICINITY ENERGY TRENTON  L.P.    NJ   TRENTON   8608  2018   \n",
       "4     1003084  VICINITY ENERGY TRENTON  L.P.    NJ   TRENTON   8608  2018   \n",
       "\n",
       "   co2e_emission                                    parent_company  \\\n",
       "0        134.500                           CONSOLIDATED EDISON INC   \n",
       "1     260083.100                           CONSOLIDATED EDISON INC   \n",
       "2        188.336                           CONSOLIDATED EDISON INC   \n",
       "3      32049.200  VEOLIA ENVIRONMENT NORTH AMERICAN OPERATIONS INC   \n",
       "4         15.000  VEOLIA ENVIRONMENT NORTH AMERICAN OPERATIONS INC   \n",
       "\n",
       "  primary_naics_code code6Digit                         title6Digit  \n",
       "0             221330     221330  Steam and Air-Conditioning Supply   \n",
       "1             221330     221330  Steam and Air-Conditioning Supply   \n",
       "2             221330     221330  Steam and Air-Conditioning Supply   \n",
       "3             221330     221330  Steam and Air-Conditioning Supply   \n",
       "4             221330     221330  Steam and Air-Conditioning Supply   "
      ]
     },
     "execution_count": 18,
     "metadata": {},
     "output_type": "execute_result"
    }
   ],
   "source": [
    "gasType_facility = pd.merge(left = gasType, right = facility[[\"facility_id\", \"parent_company\", \"primary_naics_code\", \"year\"]], on = [\"facility_id\", \"year\"])\n",
    "df = pd.merge(left = gasType_facility, right = code6Digit, left_on = \"primary_naics_code\", right_on = \"code6Digit\")\n",
    "df.head()"
   ]
  },
  {
   "cell_type": "markdown",
   "id": "f3eddf1e-2fef-4d56-9766-5a564a5ba72e",
   "metadata": {},
   "source": [
    "# 3. Exploratory Data Analysis"
   ]
  },
  {
   "cell_type": "markdown",
   "id": "0b67cfd7-1423-46ae-bc70-ec2998d950cc",
   "metadata": {},
   "source": [
    "1. Is there any correlation between the variables you are interested in exploring?\n",
    "1. How would you cleanly and accurately visualize the relationship among variables?"
   ]
  },
  {
   "cell_type": "code",
   "execution_count": 19,
   "id": "67dc1932-5c58-4278-a1ee-cb8018e9c815",
   "metadata": {},
   "outputs": [],
   "source": [
    "def barPlot(df, col, num):\n",
    "    dfAgg = (df.groupby(col)\n",
    "               .agg('sum')['co2e_emission']\n",
    "               .sort_values(ascending=False)[:num])\n",
    "    plt.figure(figsize=(12,10))\n",
    "    plt.title('Top {} Companies with Most CO2 Emissions'.format(num),fontsize=12)\n",
    "    plt.xlabel(col,fontsize=12)\n",
    "    plt.ylabel(\"Total CO2 Emissions\",fontsize=12)\n",
    "    plt.bar(dfAgg.index, height = dfAgg)\n",
    "    plt.xticks(dfAgg.index, rotation = 'vertical');"
   ]
  },
  {
   "cell_type": "markdown",
   "id": "f027f65b-b735-4c42-976c-2959b7d3846c",
   "metadata": {},
   "source": [
    "## 3.1. CO2 Emissions Group By Facility"
   ]
  },
  {
   "cell_type": "code",
   "execution_count": 20,
   "id": "6207bc55-df82-49af-8529-8ccf07f0fb47",
   "metadata": {},
   "outputs": [
    {
     "data": {
      "image/png": "[encoded data removed]",
      "text/plain": [
       "<Figure size 864x720 with 1 Axes>"
      ]
     },
     "metadata": {
      "needs_background": "light"
     },
     "output_type": "display_data"
    }
   ],
   "source": [
    "barPlot(df, \"facility_name\", 50)"
   ]
  },
  {
   "cell_type": "markdown",
   "id": "9f31596c-463b-4e15-a832-62b42b23bfd3",
   "metadata": {},
   "source": [
    "## 3.2. CO2 Emissions Group by Parent Company"
   ]
  },
  {
   "cell_type": "code",
   "execution_count": 21,
   "id": "c6c6803b-a212-4cc7-874a-f239bf05d5bd",
   "metadata": {},
   "outputs": [
    {
     "data": {
      "image/png": "[encoded data removed]",
      "text/plain": [
       "<Figure size 864x720 with 1 Axes>"
      ]
     },
     "metadata": {
      "needs_background": "light"
     },
     "output_type": "display_data"
    }
   ],
   "source": [
    "barPlot(df, \"parent_company\", 20)"
   ]
  },
  {
   "cell_type": "markdown",
   "id": "c5bb7cd4-9620-4ab7-8f38-da79954e2d54",
   "metadata": {},
   "source": [
    "## 3.3. CO2 Emissions Group by City"
   ]
  },
  {
   "cell_type": "code",
   "execution_count": 22,
   "id": "3f48fe11-2904-4066-ac97-01bca4734114",
   "metadata": {},
   "outputs": [
    {
     "data": {
      "image/png": "[encoded data removed]",
      "text/plain": [
       "<Figure size 864x720 with 1 Axes>"
      ]
     },
     "metadata": {
      "needs_background": "light"
     },
     "output_type": "display_data"
    }
   ],
   "source": [
    "barPlot(df, \"city\", 20)"
   ]
  },
  {
   "cell_type": "markdown",
   "id": "c796a4b0-de22-464b-8b82-62457b1c6810",
   "metadata": {},
   "source": [
    "## 3.4. CO2 Emissions Group by State"
   ]
  },
  {
   "cell_type": "code",
   "execution_count": 23,
   "id": "359edc97-63cb-4789-a464-5e37ff1742b1",
   "metadata": {},
   "outputs": [
    {
     "data": {
      "image/png": "[encoded data removed]",
      "text/plain": [
       "<Figure size 864x720 with 1 Axes>"
      ]
     },
     "metadata": {
      "needs_background": "light"
     },
     "output_type": "display_data"
    }
   ],
   "source": [
    "barPlot(df, \"state\", 20)"
   ]
  },
  {
   "cell_type": "markdown",
   "id": "ffeaf184-7b02-40af-9582-6f7fdf9d6b89",
   "metadata": {},
   "source": [
    "## 3.5. CO2 Emissions Group by 2022 NAICS Title"
   ]
  },
  {
   "cell_type": "code",
   "execution_count": 24,
   "id": "7a2d5cb6-0a7c-46ce-ae5e-5e922e95b36e",
   "metadata": {},
   "outputs": [
    {
     "data": {
      "image/png": "[encoded data removed]",
      "text/plain": [
       "<Figure size 864x720 with 1 Axes>"
      ]
     },
     "metadata": {
      "needs_background": "light"
     },
     "output_type": "display_data"
    }
   ],
   "source": [
    "barPlot(df, \"title6Digit\", 10)"
   ]
  },
  {
   "cell_type": "markdown",
   "id": "cc2e0805-b267-4fdd-9396-af84b27f4b07",
   "metadata": {},
   "source": [
    "# 4. Data Modeling and Inferences"
   ]
  },
  {
   "cell_type": "markdown",
   "id": "8ce4c539-2b21-45fc-8180-a78578626d8e",
   "metadata": {},
   "source": [
    "Purpose: Given city, zip, year, parent_company, code3Digit, we could predict co2e_emission without knowing which facility it is."
   ]
  },
  {
   "cell_type": "code",
   "execution_count": 25,
   "id": "c39a505a-f411-4809-8eb7-35ec707344b1",
   "metadata": {},
   "outputs": [
    {
     "data": {
      "text/html": [
       "<div>\n",
       "<style scoped>\n",
       "    .dataframe tbody tr th:only-of-type {\n",
       "        vertical-align: middle;\n",
       "    }\n",
       "\n",
       "    .dataframe tbody tr th {\n",
       "        vertical-align: top;\n",
       "    }\n",
       "\n",
       "    .dataframe thead th {\n",
       "        text-align: right;\n",
       "    }\n",
       "</style>\n",
       "<table border=\"1\" class=\"dataframe\">\n",
       "  <thead>\n",
       "    <tr style=\"text-align: right;\">\n",
       "      <th></th>\n",
       "      <th>facility_id</th>\n",
       "      <th>facility_name</th>\n",
       "      <th>state</th>\n",
       "      <th>city</th>\n",
       "      <th>zip</th>\n",
       "      <th>year</th>\n",
       "      <th>parent_company</th>\n",
       "      <th>primary_naics_code</th>\n",
       "      <th>code6Digit</th>\n",
       "      <th>title6Digit</th>\n",
       "      <th>co2e_emission</th>\n",
       "    </tr>\n",
       "  </thead>\n",
       "  <tbody>\n",
       "    <tr>\n",
       "      <th>0</th>\n",
       "      <td>1000001</td>\n",
       "      <td>PSE FERNDALE GENERATING STATION</td>\n",
       "      <td>WA</td>\n",
       "      <td>FERNDALE</td>\n",
       "      <td>98248</td>\n",
       "      <td>2010</td>\n",
       "      <td>EMPECO IV  LLC AND USPF II FERNDALE HOLDINGS  LLC</td>\n",
       "      <td>221112</td>\n",
       "      <td>221112</td>\n",
       "      <td>Fossil Fuel Electric Power Generation</td>\n",
       "      <td>293290.944</td>\n",
       "    </tr>\n",
       "    <tr>\n",
       "      <th>1</th>\n",
       "      <td>1000001</td>\n",
       "      <td>PSE FERNDALE GENERATING STATION</td>\n",
       "      <td>WA</td>\n",
       "      <td>FERNDALE</td>\n",
       "      <td>98248</td>\n",
       "      <td>2011</td>\n",
       "      <td>EMPECO IV  LLC AND USPF II FERNDALE HOLDINGS  LLC</td>\n",
       "      <td>221112</td>\n",
       "      <td>221112</td>\n",
       "      <td>Fossil Fuel Electric Power Generation</td>\n",
       "      <td>35878.164</td>\n",
       "    </tr>\n",
       "    <tr>\n",
       "      <th>2</th>\n",
       "      <td>1000001</td>\n",
       "      <td>PSE FERNDALE GENERATING STATION</td>\n",
       "      <td>WA</td>\n",
       "      <td>FERNDALE</td>\n",
       "      <td>98248</td>\n",
       "      <td>2012</td>\n",
       "      <td>PUGET SOUND ENERGY</td>\n",
       "      <td>221112</td>\n",
       "      <td>221112</td>\n",
       "      <td>Fossil Fuel Electric Power Generation</td>\n",
       "      <td>14719.108</td>\n",
       "    </tr>\n",
       "    <tr>\n",
       "      <th>3</th>\n",
       "      <td>1000001</td>\n",
       "      <td>PSE FERNDALE GENERATING STATION</td>\n",
       "      <td>WA</td>\n",
       "      <td>FERNDALE</td>\n",
       "      <td>98248</td>\n",
       "      <td>2013</td>\n",
       "      <td>PUGET SOUND ENERGY</td>\n",
       "      <td>221112</td>\n",
       "      <td>221112</td>\n",
       "      <td>Fossil Fuel Electric Power Generation</td>\n",
       "      <td>395314.784</td>\n",
       "    </tr>\n",
       "    <tr>\n",
       "      <th>4</th>\n",
       "      <td>1000001</td>\n",
       "      <td>PSE FERNDALE GENERATING STATION</td>\n",
       "      <td>WA</td>\n",
       "      <td>FERNDALE</td>\n",
       "      <td>98248</td>\n",
       "      <td>2014</td>\n",
       "      <td>PUGET SOUND ENERGY</td>\n",
       "      <td>221112</td>\n",
       "      <td>221112</td>\n",
       "      <td>Fossil Fuel Electric Power Generation</td>\n",
       "      <td>333193.564</td>\n",
       "    </tr>\n",
       "  </tbody>\n",
       "</table>\n",
       "</div>"
      ],
      "text/plain": [
       "  facility_id                    facility_name state      city    zip  year  \\\n",
       "0     1000001  PSE FERNDALE GENERATING STATION    WA  FERNDALE  98248  2010   \n",
       "1     1000001  PSE FERNDALE GENERATING STATION    WA  FERNDALE  98248  2011   \n",
       "2     1000001  PSE FERNDALE GENERATING STATION    WA  FERNDALE  98248  2012   \n",
       "3     1000001  PSE FERNDALE GENERATING STATION    WA  FERNDALE  98248  2013   \n",
       "4     1000001  PSE FERNDALE GENERATING STATION    WA  FERNDALE  98248  2014   \n",
       "\n",
       "                                      parent_company primary_naics_code  \\\n",
       "0  EMPECO IV  LLC AND USPF II FERNDALE HOLDINGS  LLC             221112   \n",
       "1  EMPECO IV  LLC AND USPF II FERNDALE HOLDINGS  LLC             221112   \n",
       "2                                 PUGET SOUND ENERGY             221112   \n",
       "3                                 PUGET SOUND ENERGY             221112   \n",
       "4                                 PUGET SOUND ENERGY             221112   \n",
       "\n",
       "  code6Digit                             title6Digit  co2e_emission  \n",
       "0     221112  Fossil Fuel Electric Power Generation      293290.944  \n",
       "1     221112  Fossil Fuel Electric Power Generation       35878.164  \n",
       "2     221112  Fossil Fuel Electric Power Generation       14719.108  \n",
       "3     221112  Fossil Fuel Electric Power Generation      395314.784  \n",
       "4     221112  Fossil Fuel Electric Power Generation      333193.564  "
      ]
     },
     "execution_count": 25,
     "metadata": {},
     "output_type": "execute_result"
    }
   ],
   "source": [
    "df_agg = pd.merge(left = df.drop(\"co2e_emission\", axis = 1).drop_duplicates().sort_values([\"facility_id\", \"year\"])\n",
    "         ,right = df.groupby(by = [\"facility_id\", \"year\"]).sum().reset_index()\n",
    "         ,on = [\"facility_id\", \"year\"])\n",
    "df_agg.head()"
   ]
  },
  {
   "cell_type": "markdown",
   "id": "7cd472a4-2e08-4818-b6e6-072c0a2a4589",
   "metadata": {},
   "source": [
    "## 4.1. Feature Engineering"
   ]
  },
  {
   "cell_type": "markdown",
   "id": "2b600ffb-9d19-49e8-b94e-3169ca3767f0",
   "metadata": {},
   "source": [
    "### 4.1.1. Feature Extration-`code3Digit`"
   ]
  },
  {
   "cell_type": "code",
   "execution_count": 26,
   "id": "9a3c1158-0090-4739-b532-699780a60f89",
   "metadata": {},
   "outputs": [
    {
     "name": "stdout",
     "output_type": "stream",
     "text": [
      "count(length = 2) = 17\n",
      "count(length = 3) = 96\n",
      "count(length = 4) = 308\n",
      "count(length = 5) = 692\n",
      "count(length = 6) = 1012\n"
     ]
    }
   ],
   "source": [
    "for length in range(2,7):\n",
    "    print(\"count(length = {}) = {}\".format(length, sum(code2To6Digit[\"code\"].astype(\"str\").str.len() == length)))"
   ]
  },
  {
   "cell_type": "markdown",
   "id": "ccd8f68d-cae0-4a9b-853e-5b1ae2ceac3b",
   "metadata": {},
   "source": [
    "As we can see, encoding 3-digit code is acceptable and adds the most information."
   ]
  },
  {
   "cell_type": "code",
   "execution_count": 27,
   "id": "d2c51e35-7cf0-4d0a-b3b9-c071c23c7c8e",
   "metadata": {},
   "outputs": [],
   "source": [
    "# extract first three digits and encode it\n",
    "df_agg[\"code3Digit\"] = df_agg[\"code6Digit\"].str[:3]\n",
    "model_df = pd.get_dummies(df_agg[\"code3Digit\"], prefix = \"code\")"
   ]
  },
  {
   "cell_type": "markdown",
   "id": "4c9ae9d8-f233-49ce-8844-849122569b42",
   "metadata": {},
   "source": [
    "### 4.1.2. Feature Creation-`parent_company`"
   ]
  },
  {
   "cell_type": "markdown",
   "id": "d5d560ae-2d63-459c-aa3a-d82577419170",
   "metadata": {},
   "source": [
    "As analyzed above, a small number of companies emit half of the CO2. Encoding `parent_company` contributes to more accurate prediction. But the unique number of `parent_company` is 6477, it's not wise to encoding all of them. Instead, we only need to encode 50 top companies and categorized the rest as *others*."
   ]
  },
  {
   "cell_type": "code",
   "execution_count": 28,
   "id": "46b49b5d-d20a-4174-b1d4-a88e3e4e6eaa",
   "metadata": {},
   "outputs": [
    {
     "data": {
      "text/plain": [
       "(6477,)"
      ]
     },
     "execution_count": 28,
     "metadata": {},
     "output_type": "execute_result"
    }
   ],
   "source": [
    "df_agg.parent_company.unique().shape"
   ]
  },
  {
   "cell_type": "code",
   "execution_count": 29,
   "id": "e097efa9-737d-4c12-9dc1-7f4c50a787c3",
   "metadata": {},
   "outputs": [
    {
     "data": {
      "text/html": [
       "<div>\n",
       "<style scoped>\n",
       "    .dataframe tbody tr th:only-of-type {\n",
       "        vertical-align: middle;\n",
       "    }\n",
       "\n",
       "    .dataframe tbody tr th {\n",
       "        vertical-align: top;\n",
       "    }\n",
       "\n",
       "    .dataframe thead th {\n",
       "        text-align: right;\n",
       "    }\n",
       "</style>\n",
       "<table border=\"1\" class=\"dataframe\">\n",
       "  <thead>\n",
       "    <tr style=\"text-align: right;\">\n",
       "      <th></th>\n",
       "      <th>code_111</th>\n",
       "      <th>code_112</th>\n",
       "      <th>code_115</th>\n",
       "      <th>code_211</th>\n",
       "      <th>code_212</th>\n",
       "      <th>code_213</th>\n",
       "      <th>code_221</th>\n",
       "      <th>code_237</th>\n",
       "      <th>code_311</th>\n",
       "      <th>code_312</th>\n",
       "      <th>...</th>\n",
       "      <th>company_SOUTHERN CO</th>\n",
       "      <th>company_SOUTHERN COMPANY</th>\n",
       "      <th>company_TAMPA ELECTRIC CO</th>\n",
       "      <th>company_VALERO ENERGY CORP</th>\n",
       "      <th>company_VISTRA ENERGY CORP</th>\n",
       "      <th>company_WASTE MANAGEMENT INC</th>\n",
       "      <th>company_WEC ENERGY GROUP</th>\n",
       "      <th>company_XCEL ENERGY</th>\n",
       "      <th>company_XCEL ENERGY INC</th>\n",
       "      <th>company_other</th>\n",
       "    </tr>\n",
       "  </thead>\n",
       "  <tbody>\n",
       "    <tr>\n",
       "      <th>0</th>\n",
       "      <td>0</td>\n",
       "      <td>0</td>\n",
       "      <td>0</td>\n",
       "      <td>0</td>\n",
       "      <td>0</td>\n",
       "      <td>0</td>\n",
       "      <td>1</td>\n",
       "      <td>0</td>\n",
       "      <td>0</td>\n",
       "      <td>0</td>\n",
       "      <td>...</td>\n",
       "      <td>0</td>\n",
       "      <td>0</td>\n",
       "      <td>0</td>\n",
       "      <td>0</td>\n",
       "      <td>0</td>\n",
       "      <td>0</td>\n",
       "      <td>0</td>\n",
       "      <td>0</td>\n",
       "      <td>0</td>\n",
       "      <td>1</td>\n",
       "    </tr>\n",
       "    <tr>\n",
       "      <th>1</th>\n",
       "      <td>0</td>\n",
       "      <td>0</td>\n",
       "      <td>0</td>\n",
       "      <td>0</td>\n",
       "      <td>0</td>\n",
       "      <td>0</td>\n",
       "      <td>1</td>\n",
       "      <td>0</td>\n",
       "      <td>0</td>\n",
       "      <td>0</td>\n",
       "      <td>...</td>\n",
       "      <td>0</td>\n",
       "      <td>0</td>\n",
       "      <td>0</td>\n",
       "      <td>0</td>\n",
       "      <td>0</td>\n",
       "      <td>0</td>\n",
       "      <td>0</td>\n",
       "      <td>0</td>\n",
       "      <td>0</td>\n",
       "      <td>1</td>\n",
       "    </tr>\n",
       "    <tr>\n",
       "      <th>2</th>\n",
       "      <td>0</td>\n",
       "      <td>0</td>\n",
       "      <td>0</td>\n",
       "      <td>0</td>\n",
       "      <td>0</td>\n",
       "      <td>0</td>\n",
       "      <td>1</td>\n",
       "      <td>0</td>\n",
       "      <td>0</td>\n",
       "      <td>0</td>\n",
       "      <td>...</td>\n",
       "      <td>0</td>\n",
       "      <td>0</td>\n",
       "      <td>0</td>\n",
       "      <td>0</td>\n",
       "      <td>0</td>\n",
       "      <td>0</td>\n",
       "      <td>0</td>\n",
       "      <td>0</td>\n",
       "      <td>0</td>\n",
       "      <td>1</td>\n",
       "    </tr>\n",
       "    <tr>\n",
       "      <th>3</th>\n",
       "      <td>0</td>\n",
       "      <td>0</td>\n",
       "      <td>0</td>\n",
       "      <td>0</td>\n",
       "      <td>0</td>\n",
       "      <td>0</td>\n",
       "      <td>1</td>\n",
       "      <td>0</td>\n",
       "      <td>0</td>\n",
       "      <td>0</td>\n",
       "      <td>...</td>\n",
       "      <td>0</td>\n",
       "      <td>0</td>\n",
       "      <td>0</td>\n",
       "      <td>0</td>\n",
       "      <td>0</td>\n",
       "      <td>0</td>\n",
       "      <td>0</td>\n",
       "      <td>0</td>\n",
       "      <td>0</td>\n",
       "      <td>1</td>\n",
       "    </tr>\n",
       "    <tr>\n",
       "      <th>4</th>\n",
       "      <td>0</td>\n",
       "      <td>0</td>\n",
       "      <td>0</td>\n",
       "      <td>0</td>\n",
       "      <td>0</td>\n",
       "      <td>0</td>\n",
       "      <td>1</td>\n",
       "      <td>0</td>\n",
       "      <td>0</td>\n",
       "      <td>0</td>\n",
       "      <td>...</td>\n",
       "      <td>0</td>\n",
       "      <td>0</td>\n",
       "      <td>0</td>\n",
       "      <td>0</td>\n",
       "      <td>0</td>\n",
       "      <td>0</td>\n",
       "      <td>0</td>\n",
       "      <td>0</td>\n",
       "      <td>0</td>\n",
       "      <td>1</td>\n",
       "    </tr>\n",
       "  </tbody>\n",
       "</table>\n",
       "<p>5 rows × 103 columns</p>\n",
       "</div>"
      ],
      "text/plain": [
       "   code_111  code_112  code_115  code_211  code_212  code_213  code_221  \\\n",
       "0         0         0         0         0         0         0         1   \n",
       "1         0         0         0         0         0         0         1   \n",
       "2         0         0         0         0         0         0         1   \n",
       "3         0         0         0         0         0         0         1   \n",
       "4         0         0         0         0         0         0         1   \n",
       "\n",
       "   code_237  code_311  code_312  ...  company_SOUTHERN CO  \\\n",
       "0         0         0         0  ...                    0   \n",
       "1         0         0         0  ...                    0   \n",
       "2         0         0         0  ...                    0   \n",
       "3         0         0         0  ...                    0   \n",
       "4         0         0         0  ...                    0   \n",
       "\n",
       "   company_SOUTHERN COMPANY  company_TAMPA ELECTRIC CO  \\\n",
       "0                         0                          0   \n",
       "1                         0                          0   \n",
       "2                         0                          0   \n",
       "3                         0                          0   \n",
       "4                         0                          0   \n",
       "\n",
       "   company_VALERO ENERGY CORP  company_VISTRA ENERGY CORP  \\\n",
       "0                           0                           0   \n",
       "1                           0                           0   \n",
       "2                           0                           0   \n",
       "3                           0                           0   \n",
       "4                           0                           0   \n",
       "\n",
       "   company_WASTE MANAGEMENT INC  company_WEC ENERGY GROUP  \\\n",
       "0                             0                         0   \n",
       "1                             0                         0   \n",
       "2                             0                         0   \n",
       "3                             0                         0   \n",
       "4                             0                         0   \n",
       "\n",
       "   company_XCEL ENERGY  company_XCEL ENERGY INC  company_other  \n",
       "0                    0                        0              1  \n",
       "1                    0                        0              1  \n",
       "2                    0                        0              1  \n",
       "3                    0                        0              1  \n",
       "4                    0                        0              1  \n",
       "\n",
       "[5 rows x 103 columns]"
      ]
     },
     "execution_count": 29,
     "metadata": {},
     "output_type": "execute_result"
    }
   ],
   "source": [
    "top50Companies = df_agg.groupby(\"parent_company\").agg('sum')['co2e_emission'].sort_values(ascending=False)[:50].index\n",
    "df_agg[\"parent_company\"] = df_agg[\"parent_company\"].apply(lambda x: x if x in top50Companies else \"other\")\n",
    "model_df = pd.concat([model_df, pd.get_dummies(df_agg[\"parent_company\"], prefix = \"company\")], axis = 1)\n",
    "model_df.head()"
   ]
  },
  {
   "cell_type": "markdown",
   "id": "089abce5-9a25-4af6-a52f-e8ff1dc8fae0",
   "metadata": {},
   "source": [
    "### 4.1.3. Encoding `state` and `year`"
   ]
  },
  {
   "cell_type": "code",
   "execution_count": 30,
   "id": "3ac351b7-9108-488d-a27e-55b2f36e95f2",
   "metadata": {},
   "outputs": [
    {
     "data": {
      "text/html": [
       "<div>\n",
       "<style scoped>\n",
       "    .dataframe tbody tr th:only-of-type {\n",
       "        vertical-align: middle;\n",
       "    }\n",
       "\n",
       "    .dataframe tbody tr th {\n",
       "        vertical-align: top;\n",
       "    }\n",
       "\n",
       "    .dataframe thead th {\n",
       "        text-align: right;\n",
       "    }\n",
       "</style>\n",
       "<table border=\"1\" class=\"dataframe\">\n",
       "  <thead>\n",
       "    <tr style=\"text-align: right;\">\n",
       "      <th></th>\n",
       "      <th>code_111</th>\n",
       "      <th>code_112</th>\n",
       "      <th>code_115</th>\n",
       "      <th>code_211</th>\n",
       "      <th>code_212</th>\n",
       "      <th>code_213</th>\n",
       "      <th>code_221</th>\n",
       "      <th>code_237</th>\n",
       "      <th>code_311</th>\n",
       "      <th>code_312</th>\n",
       "      <th>...</th>\n",
       "      <th>year_2010</th>\n",
       "      <th>year_2011</th>\n",
       "      <th>year_2012</th>\n",
       "      <th>year_2013</th>\n",
       "      <th>year_2014</th>\n",
       "      <th>year_2015</th>\n",
       "      <th>year_2016</th>\n",
       "      <th>year_2017</th>\n",
       "      <th>year_2018</th>\n",
       "      <th>year_2019</th>\n",
       "    </tr>\n",
       "  </thead>\n",
       "  <tbody>\n",
       "    <tr>\n",
       "      <th>0</th>\n",
       "      <td>0</td>\n",
       "      <td>0</td>\n",
       "      <td>0</td>\n",
       "      <td>0</td>\n",
       "      <td>0</td>\n",
       "      <td>0</td>\n",
       "      <td>1</td>\n",
       "      <td>0</td>\n",
       "      <td>0</td>\n",
       "      <td>0</td>\n",
       "      <td>...</td>\n",
       "      <td>1</td>\n",
       "      <td>0</td>\n",
       "      <td>0</td>\n",
       "      <td>0</td>\n",
       "      <td>0</td>\n",
       "      <td>0</td>\n",
       "      <td>0</td>\n",
       "      <td>0</td>\n",
       "      <td>0</td>\n",
       "      <td>0</td>\n",
       "    </tr>\n",
       "    <tr>\n",
       "      <th>1</th>\n",
       "      <td>0</td>\n",
       "      <td>0</td>\n",
       "      <td>0</td>\n",
       "      <td>0</td>\n",
       "      <td>0</td>\n",
       "      <td>0</td>\n",
       "      <td>1</td>\n",
       "      <td>0</td>\n",
       "      <td>0</td>\n",
       "      <td>0</td>\n",
       "      <td>...</td>\n",
       "      <td>0</td>\n",
       "      <td>1</td>\n",
       "      <td>0</td>\n",
       "      <td>0</td>\n",
       "      <td>0</td>\n",
       "      <td>0</td>\n",
       "      <td>0</td>\n",
       "      <td>0</td>\n",
       "      <td>0</td>\n",
       "      <td>0</td>\n",
       "    </tr>\n",
       "    <tr>\n",
       "      <th>2</th>\n",
       "      <td>0</td>\n",
       "      <td>0</td>\n",
       "      <td>0</td>\n",
       "      <td>0</td>\n",
       "      <td>0</td>\n",
       "      <td>0</td>\n",
       "      <td>1</td>\n",
       "      <td>0</td>\n",
       "      <td>0</td>\n",
       "      <td>0</td>\n",
       "      <td>...</td>\n",
       "      <td>0</td>\n",
       "      <td>0</td>\n",
       "      <td>1</td>\n",
       "      <td>0</td>\n",
       "      <td>0</td>\n",
       "      <td>0</td>\n",
       "      <td>0</td>\n",
       "      <td>0</td>\n",
       "      <td>0</td>\n",
       "      <td>0</td>\n",
       "    </tr>\n",
       "    <tr>\n",
       "      <th>3</th>\n",
       "      <td>0</td>\n",
       "      <td>0</td>\n",
       "      <td>0</td>\n",
       "      <td>0</td>\n",
       "      <td>0</td>\n",
       "      <td>0</td>\n",
       "      <td>1</td>\n",
       "      <td>0</td>\n",
       "      <td>0</td>\n",
       "      <td>0</td>\n",
       "      <td>...</td>\n",
       "      <td>0</td>\n",
       "      <td>0</td>\n",
       "      <td>0</td>\n",
       "      <td>1</td>\n",
       "      <td>0</td>\n",
       "      <td>0</td>\n",
       "      <td>0</td>\n",
       "      <td>0</td>\n",
       "      <td>0</td>\n",
       "      <td>0</td>\n",
       "    </tr>\n",
       "    <tr>\n",
       "      <th>4</th>\n",
       "      <td>0</td>\n",
       "      <td>0</td>\n",
       "      <td>0</td>\n",
       "      <td>0</td>\n",
       "      <td>0</td>\n",
       "      <td>0</td>\n",
       "      <td>1</td>\n",
       "      <td>0</td>\n",
       "      <td>0</td>\n",
       "      <td>0</td>\n",
       "      <td>...</td>\n",
       "      <td>0</td>\n",
       "      <td>0</td>\n",
       "      <td>0</td>\n",
       "      <td>0</td>\n",
       "      <td>1</td>\n",
       "      <td>0</td>\n",
       "      <td>0</td>\n",
       "      <td>0</td>\n",
       "      <td>0</td>\n",
       "      <td>0</td>\n",
       "    </tr>\n",
       "  </tbody>\n",
       "</table>\n",
       "<p>5 rows × 167 columns</p>\n",
       "</div>"
      ],
      "text/plain": [
       "   code_111  code_112  code_115  code_211  code_212  code_213  code_221  \\\n",
       "0         0         0         0         0         0         0         1   \n",
       "1         0         0         0         0         0         0         1   \n",
       "2         0         0         0         0         0         0         1   \n",
       "3         0         0         0         0         0         0         1   \n",
       "4         0         0         0         0         0         0         1   \n",
       "\n",
       "   code_237  code_311  code_312  ...  year_2010  year_2011  year_2012  \\\n",
       "0         0         0         0  ...          1          0          0   \n",
       "1         0         0         0  ...          0          1          0   \n",
       "2         0         0         0  ...          0          0          1   \n",
       "3         0         0         0  ...          0          0          0   \n",
       "4         0         0         0  ...          0          0          0   \n",
       "\n",
       "   year_2013  year_2014  year_2015  year_2016  year_2017  year_2018  year_2019  \n",
       "0          0          0          0          0          0          0          0  \n",
       "1          0          0          0          0          0          0          0  \n",
       "2          0          0          0          0          0          0          0  \n",
       "3          1          0          0          0          0          0          0  \n",
       "4          0          1          0          0          0          0          0  \n",
       "\n",
       "[5 rows x 167 columns]"
      ]
     },
     "execution_count": 30,
     "metadata": {},
     "output_type": "execute_result"
    }
   ],
   "source": [
    "model_df = pd.concat([model_df, pd.get_dummies(df_agg[\"state\"], prefix = \"state\")], axis = 1)\n",
    "model_df = pd.concat([model_df, pd.get_dummies(df_agg[\"year\"], prefix = \"year\")], axis = 1)\n",
    "model_df.head()"
   ]
  },
  {
   "cell_type": "markdown",
   "id": "6d82048f-4ea5-4927-a7fc-af5cb6c0f64a",
   "metadata": {},
   "source": [
    "### 4.1.4. Add Label"
   ]
  },
  {
   "cell_type": "markdown",
   "id": "5729f1cc-dae4-40b9-b533-c93c7adffcf8",
   "metadata": {},
   "source": [
    "**This is final dataset feed to the machine learning model.**"
   ]
  },
  {
   "cell_type": "code",
   "execution_count": 31,
   "id": "08a8f0f2-9064-4e6d-8e3a-db1c2d82731d",
   "metadata": {},
   "outputs": [
    {
     "data": {
      "text/html": [
       "<div>\n",
       "<style scoped>\n",
       "    .dataframe tbody tr th:only-of-type {\n",
       "        vertical-align: middle;\n",
       "    }\n",
       "\n",
       "    .dataframe tbody tr th {\n",
       "        vertical-align: top;\n",
       "    }\n",
       "\n",
       "    .dataframe thead th {\n",
       "        text-align: right;\n",
       "    }\n",
       "</style>\n",
       "<table border=\"1\" class=\"dataframe\">\n",
       "  <thead>\n",
       "    <tr style=\"text-align: right;\">\n",
       "      <th></th>\n",
       "      <th>code_111</th>\n",
       "      <th>code_112</th>\n",
       "      <th>code_115</th>\n",
       "      <th>code_211</th>\n",
       "      <th>code_212</th>\n",
       "      <th>code_213</th>\n",
       "      <th>code_221</th>\n",
       "      <th>code_237</th>\n",
       "      <th>code_311</th>\n",
       "      <th>code_312</th>\n",
       "      <th>...</th>\n",
       "      <th>year_2011</th>\n",
       "      <th>year_2012</th>\n",
       "      <th>year_2013</th>\n",
       "      <th>year_2014</th>\n",
       "      <th>year_2015</th>\n",
       "      <th>year_2016</th>\n",
       "      <th>year_2017</th>\n",
       "      <th>year_2018</th>\n",
       "      <th>year_2019</th>\n",
       "      <th>co2e_emission</th>\n",
       "    </tr>\n",
       "  </thead>\n",
       "  <tbody>\n",
       "    <tr>\n",
       "      <th>0</th>\n",
       "      <td>0</td>\n",
       "      <td>0</td>\n",
       "      <td>0</td>\n",
       "      <td>0</td>\n",
       "      <td>0</td>\n",
       "      <td>0</td>\n",
       "      <td>1</td>\n",
       "      <td>0</td>\n",
       "      <td>0</td>\n",
       "      <td>0</td>\n",
       "      <td>...</td>\n",
       "      <td>0</td>\n",
       "      <td>0</td>\n",
       "      <td>0</td>\n",
       "      <td>0</td>\n",
       "      <td>0</td>\n",
       "      <td>0</td>\n",
       "      <td>0</td>\n",
       "      <td>0</td>\n",
       "      <td>0</td>\n",
       "      <td>293290.944</td>\n",
       "    </tr>\n",
       "    <tr>\n",
       "      <th>1</th>\n",
       "      <td>0</td>\n",
       "      <td>0</td>\n",
       "      <td>0</td>\n",
       "      <td>0</td>\n",
       "      <td>0</td>\n",
       "      <td>0</td>\n",
       "      <td>1</td>\n",
       "      <td>0</td>\n",
       "      <td>0</td>\n",
       "      <td>0</td>\n",
       "      <td>...</td>\n",
       "      <td>1</td>\n",
       "      <td>0</td>\n",
       "      <td>0</td>\n",
       "      <td>0</td>\n",
       "      <td>0</td>\n",
       "      <td>0</td>\n",
       "      <td>0</td>\n",
       "      <td>0</td>\n",
       "      <td>0</td>\n",
       "      <td>35878.164</td>\n",
       "    </tr>\n",
       "    <tr>\n",
       "      <th>2</th>\n",
       "      <td>0</td>\n",
       "      <td>0</td>\n",
       "      <td>0</td>\n",
       "      <td>0</td>\n",
       "      <td>0</td>\n",
       "      <td>0</td>\n",
       "      <td>1</td>\n",
       "      <td>0</td>\n",
       "      <td>0</td>\n",
       "      <td>0</td>\n",
       "      <td>...</td>\n",
       "      <td>0</td>\n",
       "      <td>1</td>\n",
       "      <td>0</td>\n",
       "      <td>0</td>\n",
       "      <td>0</td>\n",
       "      <td>0</td>\n",
       "      <td>0</td>\n",
       "      <td>0</td>\n",
       "      <td>0</td>\n",
       "      <td>14719.108</td>\n",
       "    </tr>\n",
       "    <tr>\n",
       "      <th>3</th>\n",
       "      <td>0</td>\n",
       "      <td>0</td>\n",
       "      <td>0</td>\n",
       "      <td>0</td>\n",
       "      <td>0</td>\n",
       "      <td>0</td>\n",
       "      <td>1</td>\n",
       "      <td>0</td>\n",
       "      <td>0</td>\n",
       "      <td>0</td>\n",
       "      <td>...</td>\n",
       "      <td>0</td>\n",
       "      <td>0</td>\n",
       "      <td>1</td>\n",
       "      <td>0</td>\n",
       "      <td>0</td>\n",
       "      <td>0</td>\n",
       "      <td>0</td>\n",
       "      <td>0</td>\n",
       "      <td>0</td>\n",
       "      <td>395314.784</td>\n",
       "    </tr>\n",
       "    <tr>\n",
       "      <th>4</th>\n",
       "      <td>0</td>\n",
       "      <td>0</td>\n",
       "      <td>0</td>\n",
       "      <td>0</td>\n",
       "      <td>0</td>\n",
       "      <td>0</td>\n",
       "      <td>1</td>\n",
       "      <td>0</td>\n",
       "      <td>0</td>\n",
       "      <td>0</td>\n",
       "      <td>...</td>\n",
       "      <td>0</td>\n",
       "      <td>0</td>\n",
       "      <td>0</td>\n",
       "      <td>1</td>\n",
       "      <td>0</td>\n",
       "      <td>0</td>\n",
       "      <td>0</td>\n",
       "      <td>0</td>\n",
       "      <td>0</td>\n",
       "      <td>333193.564</td>\n",
       "    </tr>\n",
       "  </tbody>\n",
       "</table>\n",
       "<p>5 rows × 168 columns</p>\n",
       "</div>"
      ],
      "text/plain": [
       "   code_111  code_112  code_115  code_211  code_212  code_213  code_221  \\\n",
       "0         0         0         0         0         0         0         1   \n",
       "1         0         0         0         0         0         0         1   \n",
       "2         0         0         0         0         0         0         1   \n",
       "3         0         0         0         0         0         0         1   \n",
       "4         0         0         0         0         0         0         1   \n",
       "\n",
       "   code_237  code_311  code_312  ...  year_2011  year_2012  year_2013  \\\n",
       "0         0         0         0  ...          0          0          0   \n",
       "1         0         0         0  ...          1          0          0   \n",
       "2         0         0         0  ...          0          1          0   \n",
       "3         0         0         0  ...          0          0          1   \n",
       "4         0         0         0  ...          0          0          0   \n",
       "\n",
       "   year_2014  year_2015  year_2016  year_2017  year_2018  year_2019  \\\n",
       "0          0          0          0          0          0          0   \n",
       "1          0          0          0          0          0          0   \n",
       "2          0          0          0          0          0          0   \n",
       "3          0          0          0          0          0          0   \n",
       "4          1          0          0          0          0          0   \n",
       "\n",
       "   co2e_emission  \n",
       "0     293290.944  \n",
       "1      35878.164  \n",
       "2      14719.108  \n",
       "3     395314.784  \n",
       "4     333193.564  \n",
       "\n",
       "[5 rows x 168 columns]"
      ]
     },
     "metadata": {},
     "output_type": "display_data"
    },
    {
     "data": {
      "text/plain": [
       "(60684, 168)"
      ]
     },
     "metadata": {},
     "output_type": "display_data"
    }
   ],
   "source": [
    "model_df = pd.concat([model_df, df_agg[\"co2e_emission\"]], axis = 1)\n",
    "display(model_df.head())\n",
    "display(model_df.shape)"
   ]
  },
  {
   "cell_type": "markdown",
   "id": "4fda1c41-4d88-4bbb-a0be-4ad1ba255677",
   "metadata": {},
   "source": [
    "## 4.2. Train-test Split"
   ]
  },
  {
   "cell_type": "code",
   "execution_count": 32,
   "id": "e9f11657-b10f-4361-8072-f0dab7af1564",
   "metadata": {},
   "outputs": [],
   "source": [
    "XTrain, XTest, YTrain, YTest = train_test_split(model_df.iloc[:,:-1]\n",
    "                                                ,model_df.iloc[:,-1]\n",
    "                                                ,test_size=0.2\n",
    "                                                ,random_state=100)"
   ]
  },
  {
   "cell_type": "markdown",
   "id": "bcf3c8d4-f7f4-493a-aff2-70f7db65ae21",
   "metadata": {},
   "source": [
    "## 4.3. Model Prediction and Evaluation"
   ]
  },
  {
   "cell_type": "markdown",
   "id": "64cccdeb-55cf-4531-a148-a6755ffd8046",
   "metadata": {},
   "source": [
    "### 4.3.1. Base Model"
   ]
  },
  {
   "cell_type": "code",
   "execution_count": 33,
   "id": "2acfbc2a-d53a-4694-97c8-d3950e1bab90",
   "metadata": {},
   "outputs": [
    {
     "name": "stdout",
     "output_type": "stream",
     "text": [
      "RMSE of Base Model: 1466257.2\n",
      "Use time: 0.34s\n"
     ]
    }
   ],
   "source": [
    "tic = time()\n",
    "YPredict = pd.Series(YTest.mean() for i in range(YTest.shape[0]))\n",
    "rmseBaseModel = mean_squared_error(YTest, YPredict) ** 0.5\n",
    "timeUsed = time() - tic\n",
    "print(\"RMSE of Base Model: {:.1f}\".format(rmseBaseModel))\n",
    "print(\"Use time: {:.2f}s\".format(timeUsed))"
   ]
  },
  {
   "cell_type": "code",
   "execution_count": 34,
   "id": "ecb4d112-494e-40c1-91dd-5c6f53effd5b",
   "metadata": {},
   "outputs": [],
   "source": [
    "def displayModelResult(regressor, modelName):\n",
    "    tic = time()\n",
    "    regr = regressor.fit(XTrain, YTrain)\n",
    "    rmse = mean_squared_error(YTest, regr.predict(XTest)) ** 0.5\n",
    "    timeUsed = time() - tic\n",
    "    print(\"RMSE of {}: {:.1f}\".format(modelName, rmse))\n",
    "    print(\"Use time of single model: {:.2f}s\".format(timeUsed))"
   ]
  },
  {
   "cell_type": "markdown",
   "id": "1011749a-ced1-4e08-9fdf-0d946aba54fb",
   "metadata": {},
   "source": [
    "### 4.3.2. Linear Regression"
   ]
  },
  {
   "cell_type": "code",
   "execution_count": 35,
   "id": "d4f0bab7-1060-42c7-bcd5-8170dbad75bf",
   "metadata": {},
   "outputs": [
    {
     "name": "stdout",
     "output_type": "stream",
     "text": [
      "RMSE of linear regression: 1319686.1\n",
      "Use time of single model: 0.15s\n"
     ]
    }
   ],
   "source": [
    "displayModelResult(LinearRegression(), \"linear regression\")"
   ]
  },
  {
   "cell_type": "markdown",
   "id": "2c89b0f7-391f-47d1-8893-662cefc75e40",
   "metadata": {},
   "source": [
    "### 4.3.5. Decision Tree Regressor"
   ]
  },
  {
   "cell_type": "code",
   "execution_count": 36,
   "id": "57e3884d-5a2e-40a6-a902-3e8e434009bd",
   "metadata": {},
   "outputs": [
    {
     "name": "stdout",
     "output_type": "stream",
     "text": [
      "RMSE of decision tree regressor: 1344351.2\n",
      "Use time of single model: 0.33s\n"
     ]
    }
   ],
   "source": [
    "displayModelResult(DecisionTreeRegressor(random_state = 10), \"decision tree regressor\")"
   ]
  },
  {
   "cell_type": "code",
   "execution_count": 37,
   "id": "3391b70c-2376-4cb7-beda-cbbebbf46579",
   "metadata": {},
   "outputs": [],
   "source": [
    "def tuneHyperparameter(regressor, hyperparameter, grid_values):\n",
    "    tic = time()\n",
    "    regr_cv = GridSearchCV(regressor\n",
    "                           ,scoring = \"neg_mean_squared_error\"\n",
    "                           ,param_grid = grid_values\n",
    "                           ,cv=5\n",
    "                           ,verbose=0).fit(XTrain, YTrain)\n",
    "    timeUsed = time() - tic\n",
    "    print(\"Use time of cross validation: {:.2f}s\".format(timeUsed))\n",
    "\n",
    "    hyperparameters = regr_cv.cv_results_[\"param_\"+hyperparameter].data\n",
    "    scores = (-regr_cv.cv_results_['mean_test_score']) ** 0.5\n",
    "\n",
    "    plt.xlabel(hyperparameter, fontsize=16)\n",
    "    plt.ylabel('CV RMSE', fontsize=16)\n",
    "    plt.scatter(hyperparameters, scores, s=30)\n",
    "    plt.plot(hyperparameters, scores, linewidth=3)\n",
    "    plt.grid(True, which='both')\n",
    "\n",
    "    print('Best {}: {:.1f}'.format(hyperparameter, regr_cv.best_params_[hyperparameter]))\n",
    "    return regr_cv.best_params_[hyperparameter]"
   ]
  },
  {
   "cell_type": "code",
   "execution_count": 38,
   "id": "ac925860-b981-440d-a919-e9324a682d92",
   "metadata": {},
   "outputs": [
    {
     "name": "stdout",
     "output_type": "stream",
     "text": [
      "Use time of cross validation: 28.36s\n",
      "Best ccp_alpha: 0.1\n",
      "RMSE of decision tree regressor: 1344351.2\n",
      "Use time of single model: 0.32s\n"
     ]
    },
    {
     "data": {
      "image/png": "[encoded data removed]",
      "text/plain": [
       "<Figure size 432x288 with 1 Axes>"
      ]
     },
     "metadata": {
      "needs_background": "light"
     },
     "output_type": "display_data"
    }
   ],
   "source": [
    "bestHyperParameter = tuneHyperparameter(regressor = DecisionTreeRegressor(random_state = 10)\n",
    "                                       ,hyperparameter = 'ccp_alpha'\n",
    "                                       ,grid_values = {'ccp_alpha': np.linspace(0, 1, 20)})\n",
    "displayModelResult(DecisionTreeRegressor(random_state = 10, ccp_alpha = bestHyperParameter), \"decision tree regressor\")"
   ]
  },
  {
   "cell_type": "markdown",
   "id": "889077b7-76f0-484f-a49f-3ba943f21fce",
   "metadata": {},
   "source": [
    "### 4.3.6. Random Forest Regressor"
   ]
  },
  {
   "cell_type": "code",
   "execution_count": 39,
   "id": "ffdccb23-2858-463b-8858-72c32c8c66a1",
   "metadata": {},
   "outputs": [
    {
     "name": "stdout",
     "output_type": "stream",
     "text": [
      "RMSE of random forest regressor: 1329246.2\n",
      "Use time of single model: 20.81s\n"
     ]
    }
   ],
   "source": [
    "displayModelResult(RandomForestRegressor(random_state = 10), \"random forest regressor\")"
   ]
  },
  {
   "cell_type": "code",
   "execution_count": 40,
   "id": "dff49431-5f88-4212-b7da-6614c63c462e",
   "metadata": {},
   "outputs": [
    {
     "name": "stdout",
     "output_type": "stream",
     "text": [
      "Use time of cross validation: 337.94s\n",
      "Best ccp_alpha: 0.6\n",
      "RMSE of random forest regressor: 1329246.2\n",
      "Use time of single model: 22.07s\n"
     ]
    },
    {
     "data": {
      "image/png": "[encoded data removed]",
      "text/plain": [
       "<Figure size 432x288 with 1 Axes>"
      ]
     },
     "metadata": {
      "needs_background": "light"
     },
     "output_type": "display_data"
    }
   ],
   "source": [
    "bestHyperParameter = tuneHyperparameter(regressor = RandomForestRegressor(random_state = 10, n_estimators = 20)\n",
    "                                        ,hyperparameter = 'ccp_alpha'\n",
    "                                        ,grid_values = {'ccp_alpha': np.linspace(0, 1, 20)})\n",
    "displayModelResult(RandomForestRegressor(random_state = 10, ccp_alpha = bestHyperParameter), \"random forest regressor\")"
   ]
  },
  {
   "cell_type": "markdown",
   "id": "5dd08166-883a-48fa-b71d-4ef5a5432289",
   "metadata": {},
   "source": [
    "## 4.5. Model Summary"
   ]
  },
  {
   "cell_type": "markdown",
   "id": "9b662c32-0721-4f81-b77d-4f294a5b008b",
   "metadata": {},
   "source": [
    "| Model                                        | RMSE        | Time(s) | \n",
    "| ----                                         | ----------- | --------|\n",
    "| Base Model                                   | 1466257.2   | 0.34    |\n",
    "| Linear Regression                            | 1319686.1   | 0.15    |\n",
    "| Decision Tree Regressor                      | 1344351.2   | 29.16   |\n",
    "| Random Forest Regressor                      | 1329246.2   | 337.94  |"
   ]
  },
  {
   "cell_type": "code",
   "execution_count": null,
   "id": "08df2309-4c32-4f27-b7a6-581bb415bae4",
   "metadata": {},
   "outputs": [],
   "source": []
  }
 ],
 "metadata": {
  "kernelspec": {
   "display_name": "Python 3 (ipykernel)",
   "language": "python",
   "name": "python3"
  },
  "language_info": {
   "codemirror_mode": {
    "name": "ipython",
    "version": 3
   },
   "file_extension": ".py",
   "mimetype": "text/x-python",
   "name": "python",
   "nbconvert_exporter": "python",
   "pygments_lexer": "ipython3",
   "version": "3.10.4"
  }
 },
 "nbformat": 4,
 "nbformat_minor": 5
}
