{
 "cells": [
  {
   "cell_type": "code",
   "execution_count": 1,
   "id": "794a82a6-a990-4925-aa53-faf7d492da4a",
   "metadata": {},
   "outputs": [],
   "source": [
    "import sys\n",
    "import os\n",
    "from pathlib import Path\n",
    "sys.path.insert(0, \".\\\\Python Utils\")\n",
    "\n",
    "import utils\n",
    "import pandas as pd\n",
    "import numpy as np\n",
    "import time\n",
    "import sqlite3 as sql\n",
    "import seaborn as sns\n",
    "from IPython.display import display, Latex, Markdown\n",
    "\n",
    "import gdown"
   ]
  },
  {
   "cell_type": "markdown",
   "id": "f768b6d5-8261-4761-a673-6301e3d3eee9",
   "metadata": {
    "tags": []
   },
   "source": [
    "### Download Data\n",
    "Download data in a google drive folder from the given url. Automatically checks for cache existance."
   ]
  },
  {
   "cell_type": "code",
   "execution_count": 2,
   "id": "25294f50-2868-4523-b875-1c9b52efec23",
   "metadata": {},
   "outputs": [
    {
     "name": "stdout",
     "output_type": "stream",
     "text": [
      "Using cached version that was downloaded (UTC): Mon Apr 11 11:14:48 2022 in folder C:\\Users\\Jerry.Y\\Documents\\DS200 Grad Project\\Dataset\n"
     ]
    }
   ],
   "source": [
    "url = \"https://drive.google.com/drive/folders/1AVzJyX7yv9RufLUbGUD6DUDXXUsfW5W4?usp=sharing\"\n",
    "# gdown.download_folder(url, quiet=False, use_cookies=True)\n",
    "utils.down_file_from_google_drive_folder(url)"
   ]
  },
  {
   "cell_type": "markdown",
   "id": "377bc0d2-12af-4845-abf5-59426779bef0",
   "metadata": {},
   "source": [
    "### Process Data"
   ]
  },
  {
   "cell_type": "code",
   "execution_count": null,
   "id": "cfc9c4dd-a61d-4425-b2fe-c8defb74592c",
   "metadata": {},
   "outputs": [],
   "source": []
  }
 ],
 "metadata": {
  "kernelspec": {
   "display_name": "Python 3 (ipykernel)",
   "language": "python",
   "name": "python3"
  },
  "language_info": {
   "codemirror_mode": {
    "name": "ipython",
    "version": 3
   },
   "file_extension": ".py",
   "mimetype": "text/x-python",
   "name": "python",
   "nbconvert_exporter": "python",
   "pygments_lexer": "ipython3",
   "version": "3.10.4"
  }
 },
 "nbformat": 4,
 "nbformat_minor": 5
}
